{
  "nbformat": 4,
  "nbformat_minor": 0,
  "metadata": {
    "colab": {
      "provenance": [],
      "toc_visible": true,
      "include_colab_link": true
    },
    "kernelspec": {
      "name": "python3",
      "display_name": "Python 3"
    },
    "language_info": {
      "name": "python"
    }
  },
  "cells": [
    {
      "cell_type": "markdown",
      "metadata": {
        "id": "view-in-github",
        "colab_type": "text"
      },
      "source": [
        "<a href=\"https://colab.research.google.com/github/joaocassella/MVP_ML/blob/main/ML_MVP_Notebook_B.ipynb\" target=\"_parent\"><img src=\"https://colab.research.google.com/assets/colab-badge.svg\" alt=\"Open In Colab\"/></a>"
      ]
    },
    {
      "cell_type": "markdown",
      "source": [
        "# Machine Learning - Notebook B\n",
        "# Professores :\n",
        "  * Tatiana Escovedo\n",
        "  * Augusto Baffa\n",
        "  * Luiz Schirmer\n",
        "\n",
        "# Aluno : João Cassella"
      ],
      "metadata": {
        "id": "XRGmOwGF5VBu"
      }
    },
    {
      "cell_type": "markdown",
      "source": [
        "##Definição do Problema\n",
        "O problema proposto é a classificação de emails entre spam ou não spam, a partir da análise da mensagem.\n",
        "\n",
        "Foi utilizado o dataset E-Mail classification NLP hospedado em no site kaggle, [Clique aqui](https://www.kaggle.com/datasets/datatattle/email-classification-nlp) para acessar a página do dataset.\n",
        "\n",
        "O conjunto de dados é composto de 2 datasets, um de treino e outro de testes, ambos no formato csv"
      ],
      "metadata": {
        "id": "iQio7JR1635I"
      }
    },
    {
      "cell_type": "markdown",
      "source": [
        "##Informações sobre os atributos\n",
        "\n",
        "O dataset contém 3 atributos descritos a seguir :\n",
        "\n",
        "* nr - Número da linha\n",
        "* mensagem - Texto da mensagem do email (corpo do email)\n",
        "* classe - Classificação (Spam / Non-Spam)\n"
      ],
      "metadata": {
        "id": "CdYwPHTw7Cz-"
      }
    },
    {
      "cell_type": "markdown",
      "source": [
        "##Importação das bibliotecas\n",
        "\n"
      ],
      "metadata": {
        "id": "1g112FbKUDsv"
      }
    },
    {
      "cell_type": "code",
      "execution_count": 1,
      "metadata": {
        "id": "sDfGzJRa28iT",
        "colab": {
          "base_uri": "https://localhost:8080/"
        },
        "outputId": "9884d959-e155-4a12-e8dd-cfeb5d326026"
      },
      "outputs": [
        {
          "output_type": "stream",
          "name": "stderr",
          "text": [
            "[nltk_data] Downloading package stopwords to /root/nltk_data...\n",
            "[nltk_data]   Unzipping corpora/stopwords.zip.\n"
          ]
        }
      ],
      "source": [
        "# Configuração para não exibir os warnings\n",
        "import warnings\n",
        "warnings.filterwarnings(\"ignore\")\n",
        "\n",
        "import numpy as np # linear algebra\n",
        "import pandas as pd # data processing, CSV file I/O (e.g. pd.read_csv)\n",
        "import matplotlib.pyplot as plt\n",
        "import re\n",
        "from tensorflow.keras.models import Sequential\n",
        "from tensorflow.keras.layers import Embedding,LSTM,Dropout,Dense\n",
        "from tensorflow.keras.preprocessing.text import Tokenizer\n",
        "from tensorflow.keras.preprocessing.sequence import pad_sequences\n",
        "from tensorflow.keras.wrappers.scikit_learn import KerasClassifier\n",
        "from sklearn.model_selection import RandomizedSearchCV\n",
        "from scipy.stats import uniform\n",
        "from tensorflow.random import set_seed\n",
        "\n",
        "import nltk\n",
        "from nltk.corpus import stopwords\n",
        "from imblearn.over_sampling import RandomOverSampler\n",
        "\n",
        "nltk.download('stopwords')\n",
        "stop_words = stopwords.words('english')\n",
        "\n"
      ]
    },
    {
      "cell_type": "markdown",
      "source": [
        "## Datasets"
      ],
      "metadata": {
        "id": "JR5sGvz4UNk3"
      }
    },
    {
      "cell_type": "markdown",
      "source": [
        "### Carga Treino e Teste"
      ],
      "metadata": {
        "id": "GLI69rlBV6qj"
      }
    },
    {
      "cell_type": "code",
      "source": [
        "# Carregando os datasets de treino e teste\n",
        "\n",
        "treino = pd.read_csv(\"https://raw.githubusercontent.com/joaocassella/MVP_ML/main/SMS_train.csv\", delimiter=',',encoding='latin-1')\n",
        "teste = pd.read_csv(\"https://raw.githubusercontent.com/joaocassella/MVP_ML/main/SMS_test.csv\", delimiter=',',encoding='latin-1')\n",
        "\n",
        "print(treino.head())\n",
        "\n",
        "print(teste.head())\n"
      ],
      "metadata": {
        "id": "awghaAZH3AbE",
        "colab": {
          "base_uri": "https://localhost:8080/"
        },
        "outputId": "d535ff78-029e-4f81-9de1-9387e2e65950"
      },
      "execution_count": 2,
      "outputs": [
        {
          "output_type": "stream",
          "name": "stdout",
          "text": [
            "   sn                                           mensagem    classe\n",
            "0   1                         Rofl. Its true to its name  Non-Spam\n",
            "1   2  The guy did some bitching but I acted like i'd...  Non-Spam\n",
            "2   3  Pity, * was in mood for that. So...any other s...  Non-Spam\n",
            "3   4              Will Ã¼ b going to esplanade fr home?  Non-Spam\n",
            "4   5  This is the 2nd time we have tried 2 contact u...      Spam\n",
            "   sn                                           mensagem classe\n",
            "0   1  UpgrdCentre Orange customer, you may now claim...   Spam\n",
            "1   2  Loan for any purpose Â£500 - Â£75,000. Homeown...   Spam\n",
            "2   3  Congrats! Nokia 3650 video camera phone is you...   Spam\n",
            "3   4  URGENT! Your Mobile number has been awarded wi...   Spam\n",
            "4   5  Someone has contacted our dating service and e...   Spam\n"
          ]
        }
      ]
    },
    {
      "cell_type": "markdown",
      "source": [
        "### Informações"
      ],
      "metadata": {
        "id": "5Qr9FyunVvkE"
      }
    },
    {
      "cell_type": "code",
      "source": [
        "# Exibindo as dimensões dos datasets\n",
        "print(\"Dataset de treino : \",treino.shape)\n",
        "print()\n",
        "print(\"Dataset de teste : \",teste.shape)"
      ],
      "metadata": {
        "id": "vD4iAE_zmPlN",
        "colab": {
          "base_uri": "https://localhost:8080/"
        },
        "outputId": "da0df4ff-8bca-40f9-ec79-6da4c024df1f"
      },
      "execution_count": 3,
      "outputs": [
        {
          "output_type": "stream",
          "name": "stdout",
          "text": [
            "Dataset de treino :  (957, 3)\n",
            "\n",
            "Dataset de teste :  (125, 3)\n"
          ]
        }
      ]
    },
    {
      "cell_type": "code",
      "source": [
        "# Exibindo as informações dos Datasets\n",
        "print(\"Dataset de treino : \",treino.describe())\n",
        "print()\n",
        "print(\"Dataset de teste : \",teste.describe())\n"
      ],
      "metadata": {
        "id": "8-fWsb_cnmce",
        "colab": {
          "base_uri": "https://localhost:8080/"
        },
        "outputId": "7a0eb38d-f614-4f11-8923-9f838e3de83d"
      },
      "execution_count": 4,
      "outputs": [
        {
          "output_type": "stream",
          "name": "stdout",
          "text": [
            "Dataset de treino :                 sn\n",
            "count  957.000000\n",
            "mean   479.000000\n",
            "std    276.406404\n",
            "min      1.000000\n",
            "25%    240.000000\n",
            "50%    479.000000\n",
            "75%    718.000000\n",
            "max    957.000000\n",
            "\n",
            "Dataset de teste :                 sn\n",
            "count  125.000000\n",
            "mean    63.000000\n",
            "std     36.228442\n",
            "min      1.000000\n",
            "25%     32.000000\n",
            "50%     63.000000\n",
            "75%     94.000000\n",
            "max    125.000000\n"
          ]
        }
      ]
    },
    {
      "cell_type": "markdown",
      "source": [
        "###Preparação"
      ],
      "metadata": {
        "id": "PYHt6uM9WILA"
      }
    },
    {
      "cell_type": "code",
      "source": [
        "# Substituindo os valores da coluna classe nos 2 datasets, para 0-1\n",
        "\n",
        "treino['classe'] = treino['classe'].replace({\"Non-Spam\": 0, \"Spam\": 1})\n",
        "teste['classe'] = teste['classe'].replace({\"Non-Spam\": 0, \"Spam\": 1})\n",
        "\n",
        "print(\"Dataset de treino : \",treino.head())\n",
        "print()\n",
        "print(\"Dataset de teste : \",teste.head())"
      ],
      "metadata": {
        "id": "oSssda3HCZVe",
        "colab": {
          "base_uri": "https://localhost:8080/"
        },
        "outputId": "2a251009-7ea1-4466-b465-553fb9090ec1"
      },
      "execution_count": 5,
      "outputs": [
        {
          "output_type": "stream",
          "name": "stdout",
          "text": [
            "Dataset de treino :     sn                                           mensagem  classe\n",
            "0   1                         Rofl. Its true to its name       0\n",
            "1   2  The guy did some bitching but I acted like i'd...       0\n",
            "2   3  Pity, * was in mood for that. So...any other s...       0\n",
            "3   4              Will Ã¼ b going to esplanade fr home?       0\n",
            "4   5  This is the 2nd time we have tried 2 contact u...       1\n",
            "\n",
            "Dataset de teste :     sn                                           mensagem  classe\n",
            "0   1  UpgrdCentre Orange customer, you may now claim...       1\n",
            "1   2  Loan for any purpose Â£500 - Â£75,000. Homeown...       1\n",
            "2   3  Congrats! Nokia 3650 video camera phone is you...       1\n",
            "3   4  URGENT! Your Mobile number has been awarded wi...       1\n",
            "4   5  Someone has contacted our dating service and e...       1\n"
          ]
        }
      ]
    },
    {
      "cell_type": "code",
      "source": [
        "# Checando se existem valores nulos\n",
        "print(\"Dataset de treino : \",treino.isna().sum())\n",
        "print()\n",
        "print(\"Dataset de teste : \",teste.isna().sum())"
      ],
      "metadata": {
        "id": "LI0603ocJPqp",
        "colab": {
          "base_uri": "https://localhost:8080/"
        },
        "outputId": "8917e3b1-caf1-4df8-9a69-5de48771cf36"
      },
      "execution_count": 6,
      "outputs": [
        {
          "output_type": "stream",
          "name": "stdout",
          "text": [
            "Dataset de treino :  sn          0\n",
            "mensagem    0\n",
            "classe      0\n",
            "dtype: int64\n",
            "\n",
            "Dataset de teste :  sn          0\n",
            "mensagem    0\n",
            "classe      0\n",
            "dtype: int64\n"
          ]
        }
      ]
    },
    {
      "cell_type": "code",
      "source": [
        "# Contando as ocorrências dos domínios 0 e 1 na coluna classe\n",
        "print(\"Dataset de treino : \")\n",
        "print(treino['classe'].value_counts())\n",
        "\n",
        "print()\n",
        "print(\"Dataset de teste : \")\n",
        "print(teste['classe'].value_counts())"
      ],
      "metadata": {
        "id": "lnhc3P7qJXWW",
        "colab": {
          "base_uri": "https://localhost:8080/"
        },
        "outputId": "428ac8ee-9916-4642-d7c3-c0a69e4a092c"
      },
      "execution_count": 7,
      "outputs": [
        {
          "output_type": "stream",
          "name": "stdout",
          "text": [
            "Dataset de treino : \n",
            "0    835\n",
            "1    122\n",
            "Name: classe, dtype: int64\n",
            "\n",
            "Dataset de teste : \n",
            "1    76\n",
            "0    49\n",
            "Name: classe, dtype: int64\n"
          ]
        }
      ]
    },
    {
      "cell_type": "markdown",
      "source": [
        "### Limpeza dos dados"
      ],
      "metadata": {
        "id": "whQIQSj-JwVJ"
      }
    },
    {
      "cell_type": "code",
      "source": [
        "# Utilizaremos o método stop_words para retirar as palavras que possuem pouco valor semântico e que aparecem com\n",
        "# frequência nas mensagens tais como : preposições, artigos e conjunções.\n",
        "\n",
        "STOPWORDS = stopwords.words(\"english\")"
      ],
      "metadata": {
        "id": "hLAOsxNOJ183"
      },
      "execution_count": 8,
      "outputs": []
    },
    {
      "cell_type": "code",
      "source": [
        "# Definindo a função de que fará a normalização dos textos nos datasets :\n",
        "# 1. Converteremos todos os caracteres para caixa baixa\n",
        "# 2. Substuiremos alguns termos que não tem valor semântico tais como htts, https, etc\n",
        "# 3. Aplicaremos o método stop_words carregado acima\n",
        "\n",
        "def f_limpeza(text):\n",
        "    text = text.lower()\n",
        "    text = re.sub(\"(http|https|www)(:|\\.)\\S+.com\",\" \",text)\n",
        "    text = re.sub(\"[^\\w\\d]\",\" \",text)\n",
        "    text = \" \".join([t for t in text.split() if t not in STOPWORDS])\n",
        "    return text\n",
        "\n",
        "# Aplicaremos a função de normalização f_limpeza() tanto no dataset de treino quanto de teste\n",
        "treino['msg_limpa'] = treino['mensagem'].apply(f_limpeza)\n",
        "\n",
        "teste['msg_limpa'] = teste['mensagem'].apply(f_limpeza)\n",
        "\n",
        "treino['msg_limpa'][:5]\n"
      ],
      "metadata": {
        "id": "tn4mf5xELjbY",
        "colab": {
          "base_uri": "https://localhost:8080/"
        },
        "outputId": "bf11d4b1-442c-45c1-d739-b77ee743ad54"
      },
      "execution_count": 9,
      "outputs": [
        {
          "output_type": "execute_result",
          "data": {
            "text/plain": [
              "0                                       rofl true name\n",
              "1    guy bitching acted like interested buying some...\n",
              "2                                pity mood suggestions\n",
              "3                         ã¼ b going esplanade fr home\n",
              "4    2nd time tried 2 contact u u â 750 pound prize...\n",
              "Name: msg_limpa, dtype: object"
            ]
          },
          "metadata": {},
          "execution_count": 9
        }
      ]
    },
    {
      "cell_type": "code",
      "source": [
        "# Hyperpametros\n",
        "vocab_size = 5000\n",
        "max_len = 30\n",
        "\n",
        "seed = 7\n",
        "np.random.seed(seed)\n",
        "set_seed(seed)"
      ],
      "metadata": {
        "id": "-zdEwqPYQhem"
      },
      "execution_count": 10,
      "outputs": []
    },
    {
      "cell_type": "code",
      "source": [
        "# Tokenização e padding\n",
        "\n",
        "token = Tokenizer(num_words=vocab_size)\n",
        "token.fit_on_texts(treino['msg_limpa'])\n",
        "\n",
        "x_train = token.texts_to_sequences(treino['msg_limpa'])\n",
        "\n",
        "x_test = token.texts_to_sequences(teste['msg_limpa'])\n",
        "\n",
        "x_test = teste['msg_limpa'].apply(lambda x : f_limpeza(x))\n",
        "x_test = token.texts_to_sequences(x_test)\n",
        "\n",
        "\n",
        "x_train = treino['msg_limpa'].apply(lambda x : f_limpeza(x))\n",
        "x_train = token.texts_to_sequences(x_train)\n",
        "\n",
        "x_test = pad_sequences(x_test,padding='pre',truncating='pre',maxlen=max_len)\n",
        "x_train = pad_sequences(x_train,maxlen=max_len,padding='pre',truncating='pre')\n",
        "\n",
        "\n",
        "# Aplicando oversampling no dataset de treino\n",
        "ros = RandomOverSampler(random_state=42)\n",
        "x_train = pad_sequences(x_train,maxlen=max_len,padding='pre',truncating='pre')\n",
        "x_train_resampled, y_train_resampled = ros.fit_resample(x_train, treino['classe'])\n",
        "\n"
      ],
      "metadata": {
        "id": "wqaodUP_QmEM"
      },
      "execution_count": 11,
      "outputs": []
    },
    {
      "cell_type": "markdown",
      "source": [
        "## Criação da Rede Neural\n"
      ],
      "metadata": {
        "id": "Q3TB1Sa7nW8H"
      }
    },
    {
      "cell_type": "markdown",
      "source": [
        "Criaremos uma rede neural sequencial composta por camadas empilhadas, utilizando a biblioteca Keras/TensorFlow.\n",
        "\n",
        "A arquitetura da rede neural é composta das seguintes camadas :\n",
        "\n",
        "1. Camada de Embedding: Essa camada recebe como entrada um vetor de palavras e mapeia cada palavra para um vetor denso de tamanho 100. A entrada possui comprimento máximo definido.\n",
        "\n",
        "2. Camada de Dropout: Essa camada aplica a técnica de regularização e desativa aleatoriamente uma porcentagem dos neurônios durante o treinamento.\n",
        "\n",
        "3. Camada LSTM: Essa camada é uma camada de Memória de Longo Prazo Recorrente especializada em processar sequências de dados com dependências de longo prazo.\n",
        "\n",
        "4. Camada de Dropout: Outra camada de Dropout é adicionada após a camada LSTM, com a mesma taxa de dropout da camada anterior.\n",
        "\n",
        "5. Camada Dense: A camada Dense possui um único neurônio com função de ativação sigmoid, que produz uma saída binária (0 ou 1).\n",
        "\n",
        "O modelo é compilado com uma função de perda binária_crossentropy, um otimizador Adam e a métrica de precisão para avaliação do desempenho."
      ],
      "metadata": {
        "id": "sOc7H9aMnopP"
      }
    },
    {
      "cell_type": "markdown",
      "source": [
        "####  Inicialização da RN"
      ],
      "metadata": {
        "id": "1JhuXvF6jy2d"
      }
    },
    {
      "cell_type": "markdown",
      "source": [
        "###Identificação dos melhores Hiperparâmetros"
      ],
      "metadata": {
        "id": "3BHwur91W9Oc"
      }
    },
    {
      "cell_type": "code",
      "source": [
        "def f_modelo(dropout_rate, lstm_units):\n",
        "    seed = 7\n",
        "    np.random.seed(seed)\n",
        "    set_seed(seed)\n",
        "\n",
        "    model = Sequential([\n",
        "        Embedding(vocab_size, 100, input_length=max_len),\n",
        "        Dropout(dropout_rate),\n",
        "        LSTM(lstm_units),\n",
        "        Dropout(dropout_rate),\n",
        "        Dense(1, activation='sigmoid')\n",
        "    ])\n",
        "    model.compile(loss='binary_crossentropy', optimizer='adam', metrics=['acc'])\n",
        "    return model\n",
        "\n",
        "model = KerasClassifier(build_fn=f_modelo)\n",
        "\n",
        "param_dist = {\n",
        "    'dropout_rate': uniform(0.2, 0.3),\n",
        "    'lstm_units': [100, 200, 300]\n",
        "}\n",
        "\n",
        "random_search = RandomizedSearchCV(estimator=model, param_distributions=param_dist, cv=3, n_iter=3)\n",
        "random_search_result = random_search.fit(x_train, treino['classe'], epochs=5, batch_size=32, validation_data=(x_test, teste['classe']))\n",
        "\n",
        "print(\"Melhor Resultado: %f Hiperparâmetros : %s\" % (random_search_result.best_score_, random_search_result.best_params_))"
      ],
      "metadata": {
        "id": "gh-464VSV-Vo",
        "colab": {
          "base_uri": "https://localhost:8080/"
        },
        "outputId": "4b3f53e8-5689-4bf3-c2a6-2951ce9f66f2"
      },
      "execution_count": 12,
      "outputs": [
        {
          "output_type": "stream",
          "name": "stdout",
          "text": [
            "Epoch 1/5\n",
            "20/20 [==============================] - 6s 122ms/step - loss: 0.4169 - acc: 0.8605 - val_loss: 1.1819 - val_acc: 0.3920\n",
            "Epoch 2/5\n",
            "20/20 [==============================] - 2s 95ms/step - loss: 0.2021 - acc: 0.9169 - val_loss: 0.3241 - val_acc: 0.8800\n",
            "Epoch 3/5\n",
            "20/20 [==============================] - 2s 100ms/step - loss: 0.1209 - acc: 0.9718 - val_loss: 0.6250 - val_acc: 0.7200\n",
            "Epoch 4/5\n",
            "20/20 [==============================] - 2s 94ms/step - loss: 0.0430 - acc: 0.9922 - val_loss: 0.2698 - val_acc: 0.8880\n",
            "Epoch 5/5\n",
            "20/20 [==============================] - 3s 146ms/step - loss: 0.0227 - acc: 0.9953 - val_loss: 0.3218 - val_acc: 0.8880\n",
            "10/10 [==============================] - 1s 25ms/step - loss: 0.0733 - acc: 0.9718\n",
            "Epoch 1/5\n",
            "20/20 [==============================] - 5s 120ms/step - loss: 0.3659 - acc: 0.8746 - val_loss: 0.9432 - val_acc: 0.3920\n",
            "Epoch 2/5\n",
            "20/20 [==============================] - 2s 95ms/step - loss: 0.1975 - acc: 0.9279 - val_loss: 0.9427 - val_acc: 0.5360\n",
            "Epoch 3/5\n",
            "20/20 [==============================] - 2s 101ms/step - loss: 0.0781 - acc: 0.9843 - val_loss: 0.3336 - val_acc: 0.8800\n",
            "Epoch 4/5\n",
            "20/20 [==============================] - 3s 143ms/step - loss: 0.0243 - acc: 0.9922 - val_loss: 0.4203 - val_acc: 0.8560\n",
            "Epoch 5/5\n",
            "20/20 [==============================] - 2s 98ms/step - loss: 0.0066 - acc: 0.9984 - val_loss: 0.9883 - val_acc: 0.7680\n",
            "10/10 [==============================] - 1s 24ms/step - loss: 0.1262 - acc: 0.9621\n",
            "Epoch 1/5\n",
            "20/20 [==============================] - 6s 122ms/step - loss: 0.3908 - acc: 0.8589 - val_loss: 0.8690 - val_acc: 0.3920\n",
            "Epoch 2/5\n",
            "20/20 [==============================] - 2s 122ms/step - loss: 0.1821 - acc: 0.9201 - val_loss: 0.9812 - val_acc: 0.6000\n",
            "Epoch 3/5\n",
            "20/20 [==============================] - 2s 119ms/step - loss: 0.0905 - acc: 0.9781 - val_loss: 0.4769 - val_acc: 0.8000\n",
            "Epoch 4/5\n",
            "20/20 [==============================] - 2s 90ms/step - loss: 0.0344 - acc: 0.9906 - val_loss: 0.3479 - val_acc: 0.8640\n",
            "Epoch 5/5\n",
            "20/20 [==============================] - 2s 94ms/step - loss: 0.0154 - acc: 0.9953 - val_loss: 0.3070 - val_acc: 0.8800\n",
            "10/10 [==============================] - 1s 26ms/step - loss: 0.0794 - acc: 0.9719\n",
            "Epoch 1/5\n",
            "20/20 [==============================] - 4s 71ms/step - loss: 0.4930 - acc: 0.8354 - val_loss: 0.7965 - val_acc: 0.3920\n",
            "Epoch 2/5\n",
            "20/20 [==============================] - 1s 42ms/step - loss: 0.2808 - acc: 0.8652 - val_loss: 0.7485 - val_acc: 0.4400\n",
            "Epoch 3/5\n",
            "20/20 [==============================] - 1s 41ms/step - loss: 0.1358 - acc: 0.9718 - val_loss: 0.4104 - val_acc: 0.8480\n",
            "Epoch 4/5\n",
            "20/20 [==============================] - 1s 56ms/step - loss: 0.0681 - acc: 0.9906 - val_loss: 0.2921 - val_acc: 0.9040\n",
            "Epoch 5/5\n",
            "20/20 [==============================] - 1s 67ms/step - loss: 0.0323 - acc: 0.9953 - val_loss: 0.3258 - val_acc: 0.8880\n",
            "10/10 [==============================] - 1s 10ms/step - loss: 0.0735 - acc: 0.9718\n",
            "Epoch 1/5\n",
            "20/20 [==============================] - 4s 67ms/step - loss: 0.4735 - acc: 0.8668 - val_loss: 1.2576 - val_acc: 0.3920\n",
            "Epoch 2/5\n",
            "20/20 [==============================] - 1s 41ms/step - loss: 0.2808 - acc: 0.8840 - val_loss: 1.0757 - val_acc: 0.3920\n",
            "Epoch 3/5\n",
            "20/20 [==============================] - 1s 41ms/step - loss: 0.1410 - acc: 0.9577 - val_loss: 1.2004 - val_acc: 0.5760\n",
            "Epoch 4/5\n",
            "20/20 [==============================] - 1s 43ms/step - loss: 0.0634 - acc: 0.9843 - val_loss: 0.6732 - val_acc: 0.7520\n",
            "Epoch 5/5\n",
            "20/20 [==============================] - 1s 42ms/step - loss: 0.0345 - acc: 0.9953 - val_loss: 0.5108 - val_acc: 0.8160\n",
            "10/10 [==============================] - 1s 11ms/step - loss: 0.0712 - acc: 0.9811\n",
            "Epoch 1/5\n",
            "20/20 [==============================] - 5s 103ms/step - loss: 0.4690 - acc: 0.8574 - val_loss: 0.7833 - val_acc: 0.3920\n",
            "Epoch 2/5\n",
            "20/20 [==============================] - 1s 43ms/step - loss: 0.2742 - acc: 0.8730 - val_loss: 0.9797 - val_acc: 0.4080\n",
            "Epoch 3/5\n",
            "20/20 [==============================] - 1s 57ms/step - loss: 0.1333 - acc: 0.9655 - val_loss: 0.6983 - val_acc: 0.7360\n",
            "Epoch 4/5\n",
            "20/20 [==============================] - 2s 81ms/step - loss: 0.0629 - acc: 0.9859 - val_loss: 0.2903 - val_acc: 0.9040\n",
            "Epoch 5/5\n",
            "20/20 [==============================] - 1s 57ms/step - loss: 0.0272 - acc: 0.9937 - val_loss: 0.2782 - val_acc: 0.9040\n",
            "10/10 [==============================] - 1s 11ms/step - loss: 0.0811 - acc: 0.9656\n",
            "Epoch 1/5\n",
            "20/20 [==============================] - 4s 108ms/step - loss: 0.4605 - acc: 0.8417 - val_loss: 0.7512 - val_acc: 0.3920\n",
            "Epoch 2/5\n",
            "20/20 [==============================] - 1s 53ms/step - loss: 0.2479 - acc: 0.8840 - val_loss: 0.5687 - val_acc: 0.7440\n",
            "Epoch 3/5\n",
            "20/20 [==============================] - 1s 41ms/step - loss: 0.1332 - acc: 0.9718 - val_loss: 0.4668 - val_acc: 0.8320\n",
            "Epoch 4/5\n",
            "20/20 [==============================] - 1s 43ms/step - loss: 0.0661 - acc: 0.9906 - val_loss: 0.3232 - val_acc: 0.9040\n",
            "Epoch 5/5\n",
            "20/20 [==============================] - 1s 42ms/step - loss: 0.0312 - acc: 0.9937 - val_loss: 0.3516 - val_acc: 0.8960\n",
            "10/10 [==============================] - 1s 10ms/step - loss: 0.0683 - acc: 0.9812\n",
            "Epoch 1/5\n",
            "20/20 [==============================] - 5s 98ms/step - loss: 0.4951 - acc: 0.8699 - val_loss: 1.2247 - val_acc: 0.3920\n",
            "Epoch 2/5\n",
            "20/20 [==============================] - 1s 45ms/step - loss: 0.2803 - acc: 0.8840 - val_loss: 1.1667 - val_acc: 0.3920\n",
            "Epoch 3/5\n",
            "20/20 [==============================] - 1s 44ms/step - loss: 0.1451 - acc: 0.9530 - val_loss: 1.1150 - val_acc: 0.6240\n",
            "Epoch 4/5\n",
            "20/20 [==============================] - 1s 44ms/step - loss: 0.0623 - acc: 0.9875 - val_loss: 0.5929 - val_acc: 0.7680\n",
            "Epoch 5/5\n",
            "20/20 [==============================] - 1s 43ms/step - loss: 0.0306 - acc: 0.9937 - val_loss: 0.5770 - val_acc: 0.8000\n",
            "10/10 [==============================] - 1s 11ms/step - loss: 0.0773 - acc: 0.9780\n",
            "Epoch 1/5\n",
            "20/20 [==============================] - 4s 73ms/step - loss: 0.4661 - acc: 0.8464 - val_loss: 0.7542 - val_acc: 0.3920\n",
            "Epoch 2/5\n",
            "20/20 [==============================] - 1s 62ms/step - loss: 0.2781 - acc: 0.8715 - val_loss: 1.0493 - val_acc: 0.4080\n",
            "Epoch 3/5\n",
            "20/20 [==============================] - 1s 71ms/step - loss: 0.1334 - acc: 0.9671 - val_loss: 0.7620 - val_acc: 0.7200\n",
            "Epoch 4/5\n",
            "20/20 [==============================] - 1s 57ms/step - loss: 0.0610 - acc: 0.9859 - val_loss: 0.2935 - val_acc: 0.9040\n",
            "Epoch 5/5\n",
            "20/20 [==============================] - 1s 46ms/step - loss: 0.0282 - acc: 0.9937 - val_loss: 0.3635 - val_acc: 0.8880\n",
            "10/10 [==============================] - 1s 12ms/step - loss: 0.0695 - acc: 0.9750\n",
            "Epoch 1/5\n",
            "30/30 [==============================] - 4s 60ms/step - loss: 0.3699 - acc: 0.8589 - val_loss: 0.8985 - val_acc: 0.4160\n",
            "Epoch 2/5\n",
            "30/30 [==============================] - 1s 43ms/step - loss: 0.1581 - acc: 0.9687 - val_loss: 0.4422 - val_acc: 0.8080\n",
            "Epoch 3/5\n",
            "30/30 [==============================] - 1s 42ms/step - loss: 0.0633 - acc: 0.9896 - val_loss: 0.9817 - val_acc: 0.7040\n",
            "Epoch 4/5\n",
            "30/30 [==============================] - 2s 55ms/step - loss: 0.0317 - acc: 0.9916 - val_loss: 0.3806 - val_acc: 0.8720\n",
            "Epoch 5/5\n",
            "30/30 [==============================] - 2s 67ms/step - loss: 0.0107 - acc: 0.9969 - val_loss: 0.3351 - val_acc: 0.8880\n",
            "Melhor Resultado: 0.978091 Hiperparâmetros : {'dropout_rate': 0.2924038295563218, 'lstm_units': 100}\n"
          ]
        }
      ]
    },
    {
      "cell_type": "markdown",
      "source": [
        "### Observações sobre os Hiperparâmetros\n",
        "\n",
        "Executamos diversas rodadas de busca dos hiperparâmetros com diferentes valores de época. Os melhores resultados que obtivemos foram com {'dropout_rate': 0.2260230289519976, 'lstm_units': 300}.\n"
      ],
      "metadata": {
        "id": "7-EbWqOPADIP"
      }
    },
    {
      "cell_type": "markdown",
      "source": [
        "### Treinamento e Teste do Modelo"
      ],
      "metadata": {
        "id": "WyHb5fZkR_79"
      }
    },
    {
      "cell_type": "markdown",
      "source": [
        "####Utilização dos Hiperparâmetros Otimizados"
      ],
      "metadata": {
        "id": "--ol7brOpg8y"
      }
    },
    {
      "cell_type": "code",
      "source": [
        "# HIPERPARÂMETROS OTIMIZADOS\n",
        "\n",
        "model = Sequential([\n",
        "    Embedding(vocab_size, 100, input_length=max_len),\n",
        "    Dropout(0.2260230289519976),\n",
        "    LSTM(300),\n",
        "    Dropout(0.2260230289519976),\n",
        "    Dense(1, activation='sigmoid')\n",
        "])\n",
        "\n",
        "model.compile(loss='binary_crossentropy', optimizer='adam', metrics=['acc'])\n",
        "\n",
        "model.summary()\n",
        "\n",
        "history = model.fit(x_train, treino['classe'], epochs=5, batch_size=32, validation_data=(x_test, teste['classe']))\n",
        "\n"
      ],
      "metadata": {
        "id": "LtmUQcddXo8g",
        "colab": {
          "base_uri": "https://localhost:8080/"
        },
        "outputId": "7934ccce-1616-4ffb-b04b-fba18fe6d756"
      },
      "execution_count": 13,
      "outputs": [
        {
          "output_type": "stream",
          "name": "stdout",
          "text": [
            "Model: \"sequential_10\"\n",
            "_________________________________________________________________\n",
            " Layer (type)                Output Shape              Param #   \n",
            "=================================================================\n",
            " embedding_10 (Embedding)    (None, 30, 100)           500000    \n",
            "                                                                 \n",
            " dropout_20 (Dropout)        (None, 30, 100)           0         \n",
            "                                                                 \n",
            " lstm_10 (LSTM)              (None, 300)               481200    \n",
            "                                                                 \n",
            " dropout_21 (Dropout)        (None, 300)               0         \n",
            "                                                                 \n",
            " dense_10 (Dense)            (None, 1)                 301       \n",
            "                                                                 \n",
            "=================================================================\n",
            "Total params: 981,501\n",
            "Trainable params: 981,501\n",
            "Non-trainable params: 0\n",
            "_________________________________________________________________\n",
            "Epoch 1/5\n",
            "30/30 [==============================] - 7s 158ms/step - loss: 0.3906 - acc: 0.8725 - val_loss: 0.9893 - val_acc: 0.4080\n",
            "Epoch 2/5\n",
            "30/30 [==============================] - 5s 177ms/step - loss: 0.1254 - acc: 0.9634 - val_loss: 0.5695 - val_acc: 0.7680\n",
            "Epoch 3/5\n",
            "30/30 [==============================] - 4s 137ms/step - loss: 0.0340 - acc: 0.9896 - val_loss: 0.9448 - val_acc: 0.7200\n",
            "Epoch 4/5\n",
            "30/30 [==============================] - 4s 138ms/step - loss: 0.0171 - acc: 0.9969 - val_loss: 0.2704 - val_acc: 0.8880\n",
            "Epoch 5/5\n",
            "30/30 [==============================] - 5s 177ms/step - loss: 0.0067 - acc: 0.9990 - val_loss: 0.0836 - val_acc: 0.9680\n"
          ]
        }
      ]
    },
    {
      "cell_type": "markdown",
      "source": [
        "####Visualização dos Resultados"
      ],
      "metadata": {
        "id": "1DY_itM4SNiU"
      }
    },
    {
      "cell_type": "code",
      "source": [
        "history_df = pd.DataFrame(history.history)\n",
        "history_df[['acc', 'val_acc']].rename(columns={'acc': 'Treino', 'val_acc': 'Teste'}).plot(title='Precisão')\n",
        "plt.xlabel('Épocas')\n",
        "plt.ylabel('Precisão')\n",
        "plt.legend(title='Dados')\n",
        "plt.show()\n",
        "\n",
        "history_df[['loss', 'val_loss']].rename(columns={'loss': 'Treino', 'val_loss': 'Teste'}).plot(title='Perda')\n",
        "plt.xlabel('Épocas')\n",
        "plt.ylabel('Perda')\n",
        "plt.legend(title='Dados')\n",
        "plt.show()\n"
      ],
      "metadata": {
        "id": "aaJoMFPOSc-b",
        "colab": {
          "base_uri": "https://localhost:8080/",
          "height": 931
        },
        "outputId": "a9621218-bee7-4efe-dcb7-9f5db7fa4329"
      },
      "execution_count": 14,
      "outputs": [
        {
          "output_type": "display_data",
          "data": {
            "text/plain": [
              "<Figure size 640x480 with 1 Axes>"
            ],
            "image/png": "[encoded data removed]"
          },
          "metadata": {}
        },
        {
          "output_type": "display_data",
          "data": {
            "text/plain": [
              "<Figure size 640x480 with 1 Axes>"
            ],
            "image/png": "[encoded data removed]"
          },
          "metadata": {}
        }
      ]
    },
    {
      "cell_type": "code",
      "source": [
        "loss,acc = model.evaluate(x_train,treino['classe'])\n",
        "print()\n",
        "print ('Resultados do Treino :')\n",
        "print()\n",
        "print('Precisão: {:.2f}%'.format(acc * 100))\n",
        "\n",
        "print()\n",
        "print('Perda: {:.2f}%'.format(loss * 100))\n",
        "print('-------------------------------------------------------------------')\n",
        "loss,acc = model.evaluate(x_test,teste['classe'])\n",
        "print()\n",
        "print ('Resultados do Teste :')\n",
        "print()\n",
        "print('Precisão: {:.2f}%'.format(acc * 100))\n",
        "\n",
        "print()\n",
        "print('Perda: {:.2f}%'.format(loss * 100))"
      ],
      "metadata": {
        "id": "jy_m2AunUGdc",
        "colab": {
          "base_uri": "https://localhost:8080/"
        },
        "outputId": "bf6c5b6a-3d3c-464c-9be6-338b6ac30230"
      },
      "execution_count": 15,
      "outputs": [
        {
          "output_type": "stream",
          "name": "stdout",
          "text": [
            "30/30 [==============================] - 1s 38ms/step - loss: 0.0291 - acc: 0.9927\n",
            "\n",
            "Resultados do Treino :\n",
            "\n",
            "Precisão: 99.27%\n",
            "\n",
            "Perda: 2.91%\n",
            "-------------------------------------------------------------------\n",
            "4/4 [==============================] - 0s 39ms/step - loss: 0.0836 - acc: 0.9680\n",
            "\n",
            "Resultados do Teste :\n",
            "\n",
            "Precisão: 96.80%\n",
            "\n",
            "Perda: 8.36%\n"
          ]
        }
      ]
    },
    {
      "cell_type": "markdown",
      "source": [
        "####Salvando o modelo"
      ],
      "metadata": {
        "id": "IvOB5C3I43tg"
      }
    },
    {
      "cell_type": "code",
      "source": [
        "# salvando o modelo\n",
        "model.save(\"Ml_NotebookB.h5\")\n",
        "print(\"Modelo salvo com sucesso!\")"
      ],
      "metadata": {
        "colab": {
          "base_uri": "https://localhost:8080/"
        },
        "id": "6cXaGtGC9U6g",
        "outputId": "c7e4162b-2e70-4c10-c247-6c64766c301c"
      },
      "execution_count": 17,
      "outputs": [
        {
          "output_type": "stream",
          "name": "stdout",
          "text": [
            "Modelo salvo com sucesso!\n"
          ]
        }
      ]
    },
    {
      "cell_type": "markdown",
      "source": [
        "### Conclusões Finais\n",
        "Fizemos diversas rodadas de treino variando a quantidade de épocas. Foi com 5 épocas que obtivemos os melhores resultados.\n",
        "\n",
        "Observamos que a perda diminui e a precisão aumenta ao longo das épocas no conjunto de treinamento, o que indica que o modelo está aprendendo a partir desse conjunto de dados. O mesmo comportamento observamos no conjunto de  teste, embora em alguns casos possam acontecer flutuações.\n",
        "\n",
        "Ao final do treinamento, o modelo alcançou uma precisão acima de 90% para o conjunto de teste, o que nos leva a concluir que o modelo está aprendendo a partir dos dados, indicando um bom desempenho na classificação binária.\n"
      ],
      "metadata": {
        "id": "Z9JVuoxlKNMx"
      }
    }
  ]
}