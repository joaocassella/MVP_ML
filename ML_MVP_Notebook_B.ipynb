{
  "nbformat": 4,
  "nbformat_minor": 0,
  "metadata": {
    "colab": {
      "provenance": [],
      "include_colab_link": true
    },
    "kernelspec": {
      "name": "python3",
      "display_name": "Python 3"
    },
    "language_info": {
      "name": "python"
    }
  },
  "cells": [
    {
      "cell_type": "markdown",
      "metadata": {
        "id": "view-in-github",
        "colab_type": "text"
      },
      "source": [
        "<a href=\"https://colab.research.google.com/github/joaocassella/MVP_ML/blob/main/ML_MVP_Notebook_B.ipynb\" target=\"_parent\"><img src=\"https://colab.research.google.com/assets/colab-badge.svg\" alt=\"Open In Colab\"/></a>"
      ]
    },
    {
      "cell_type": "markdown",
      "source": [
        "# Machine Learning - Notebook B\n",
        "# Professores :\n",
        "  * Tatiana Escovedo\n",
        "  * Augusto Baffa\n",
        "  * Luiz Schirmer\n",
        "\n",
        "# Aluno : João Cassella"
      ],
      "metadata": {
        "id": "XRGmOwGF5VBu"
      }
    },
    {
      "cell_type": "markdown",
      "source": [
        "##Definição do Problema\n",
        "1O problema proposto é a classificação de emails entre spam ou não spam, a partir da análise da mensagem.\n",
        "\n",
        "Foi utilizado o dataset E-Mail classification NLP hospedado em no site kaggle, [Clique aqui](https://www.kaggle.com/datasets/datatattle/email-classification-nlp) para acessar a página do dataset.\n",
        "\n",
        "O conjunto de dados é composto de 2 datasets, um de treino e outro de testes, ambos no formato csv"
      ],
      "metadata": {
        "id": "iQio7JR1635I"
      }
    },
    {
      "cell_type": "markdown",
      "source": [
        "##Informações sobre os atributos\n",
        "\n",
        "O dataset contém 3 atributos descritos a seguir :\n",
        "\n",
        "* nr - Número da linha\n",
        "* mensagem - Texto da mensagem do email (corpo do email)\n",
        "* classe - Classificação (Spam / Non-Spam)\n"
      ],
      "metadata": {
        "id": "CdYwPHTw7Cz-"
      }
    },
    {
      "cell_type": "markdown",
      "source": [
        "##Importação das bibliotecas\n",
        "\n"
      ],
      "metadata": {
        "id": "1g112FbKUDsv"
      }
    },
    {
      "cell_type": "code",
      "execution_count": 23,
      "metadata": {
        "id": "sDfGzJRa28iT",
        "colab": {
          "base_uri": "https://localhost:8080/"
        },
        "outputId": "4e59ffdf-5844-4ebc-e022-cb54f8b0a99b"
      },
      "outputs": [
        {
          "output_type": "stream",
          "name": "stderr",
          "text": [
            "[nltk_data] Downloading package stopwords to /root/nltk_data...\n",
            "[nltk_data]   Package stopwords is already up-to-date!\n"
          ]
        }
      ],
      "source": [
        "# Configuração para não exibir os warnings\n",
        "import warnings\n",
        "warnings.filterwarnings(\"ignore\")\n",
        "\n",
        "import numpy as np # linear algebra\n",
        "import pandas as pd # data processing, CSV file I/O (e.g. pd.read_csv)\n",
        "import matplotlib.pyplot as plt\n",
        "import re\n",
        "from tensorflow.keras.models import Sequential\n",
        "from tensorflow.keras.layers import Embedding,LSTM,Dropout,Dense\n",
        "from tensorflow.keras.preprocessing.text import Tokenizer\n",
        "from tensorflow.keras.preprocessing.sequence import pad_sequences\n",
        "from tensorflow.keras.wrappers.scikit_learn import KerasClassifier\n",
        "from sklearn.model_selection import RandomizedSearchCV\n",
        "from scipy.stats import uniform\n",
        "from tensorflow.random import set_seed\n",
        "\n",
        "import nltk\n",
        "from nltk.corpus import stopwords\n",
        "from imblearn.over_sampling import RandomOverSampler\n",
        "\n",
        "nltk.download('stopwords')\n",
        "stop_words = stopwords.words('english')\n",
        "\n"
      ]
    },
    {
      "cell_type": "markdown",
      "source": [
        "## Datasets"
      ],
      "metadata": {
        "id": "JR5sGvz4UNk3"
      }
    },
    {
      "cell_type": "markdown",
      "source": [
        "### Carga Treino e Teste"
      ],
      "metadata": {
        "id": "GLI69rlBV6qj"
      }
    },
    {
      "cell_type": "code",
      "source": [
        "# Carregando os datasets de treino e teste\n",
        "\n",
        "treino = pd.read_csv(\"https://raw.githubusercontent.com/joaocassella/MVP_ML/main/SMS_train.csv\", delimiter=',',encoding='latin-1')\n",
        "teste = pd.read_csv(\"https://raw.githubusercontent.com/joaocassella/MVP_ML/main/SMS_test.csv\", delimiter=',',encoding='latin-1')\n",
        "\n",
        "print(treino.head())\n",
        "\n",
        "print(teste.head())\n"
      ],
      "metadata": {
        "id": "awghaAZH3AbE",
        "colab": {
          "base_uri": "https://localhost:8080/"
        },
        "outputId": "fe1971d6-b823-4753-adb3-3702e888b9b3"
      },
      "execution_count": 24,
      "outputs": [
        {
          "output_type": "stream",
          "name": "stdout",
          "text": [
            "   sn                                           mensagem    classe\n",
            "0   1                         Rofl. Its true to its name  Non-Spam\n",
            "1   2  The guy did some bitching but I acted like i'd...  Non-Spam\n",
            "2   3  Pity, * was in mood for that. So...any other s...  Non-Spam\n",
            "3   4              Will Ã¼ b going to esplanade fr home?  Non-Spam\n",
            "4   5  This is the 2nd time we have tried 2 contact u...      Spam\n",
            "   sn                                           mensagem classe\n",
            "0   1  UpgrdCentre Orange customer, you may now claim...   Spam\n",
            "1   2  Loan for any purpose Â£500 - Â£75,000. Homeown...   Spam\n",
            "2   3  Congrats! Nokia 3650 video camera phone is you...   Spam\n",
            "3   4  URGENT! Your Mobile number has been awarded wi...   Spam\n",
            "4   5  Someone has contacted our dating service and e...   Spam\n"
          ]
        }
      ]
    },
    {
      "cell_type": "markdown",
      "source": [
        "### Informações"
      ],
      "metadata": {
        "id": "5Qr9FyunVvkE"
      }
    },
    {
      "cell_type": "code",
      "source": [
        "# Exibindo as dimensões dos datasets\n",
        "print(\"Dataset de treino : \",treino.shape)\n",
        "print()\n",
        "print(\"Dataset de teste : \",teste.shape)"
      ],
      "metadata": {
        "id": "vD4iAE_zmPlN",
        "colab": {
          "base_uri": "https://localhost:8080/"
        },
        "outputId": "329ab5bd-8cb8-4e5b-b982-a25aa7acc499"
      },
      "execution_count": 25,
      "outputs": [
        {
          "output_type": "stream",
          "name": "stdout",
          "text": [
            "Dataset de treino :  (957, 3)\n",
            "\n",
            "Dataset de teste :  (125, 3)\n"
          ]
        }
      ]
    },
    {
      "cell_type": "code",
      "source": [
        "# Exibindo as informações dos Datasets\n",
        "print(\"Dataset de treino : \",treino.describe())\n",
        "print()\n",
        "print(\"Dataset de teste : \",teste.describe())\n"
      ],
      "metadata": {
        "id": "8-fWsb_cnmce",
        "colab": {
          "base_uri": "https://localhost:8080/"
        },
        "outputId": "e9f2dff3-fa08-4310-db6b-7d1dacd15093"
      },
      "execution_count": 26,
      "outputs": [
        {
          "output_type": "stream",
          "name": "stdout",
          "text": [
            "Dataset de treino :                 sn\n",
            "count  957.000000\n",
            "mean   479.000000\n",
            "std    276.406404\n",
            "min      1.000000\n",
            "25%    240.000000\n",
            "50%    479.000000\n",
            "75%    718.000000\n",
            "max    957.000000\n",
            "\n",
            "Dataset de teste :                 sn\n",
            "count  125.000000\n",
            "mean    63.000000\n",
            "std     36.228442\n",
            "min      1.000000\n",
            "25%     32.000000\n",
            "50%     63.000000\n",
            "75%     94.000000\n",
            "max    125.000000\n"
          ]
        }
      ]
    },
    {
      "cell_type": "markdown",
      "source": [
        "###Preparação"
      ],
      "metadata": {
        "id": "PYHt6uM9WILA"
      }
    },
    {
      "cell_type": "code",
      "source": [
        "# Substituindo os valores da coluna classe nos 2 datasets, para 0-1\n",
        "\n",
        "treino['classe'] = treino['classe'].replace({\"Non-Spam\": 0, \"Spam\": 1})\n",
        "teste['classe'] = teste['classe'].replace({\"Non-Spam\": 0, \"Spam\": 1})\n",
        "\n",
        "print(\"Dataset de treino : \",treino.head())\n",
        "print()\n",
        "print(\"Dataset de teste : \",teste.head())"
      ],
      "metadata": {
        "id": "oSssda3HCZVe",
        "colab": {
          "base_uri": "https://localhost:8080/"
        },
        "outputId": "1a5a802b-5b05-401a-ed8f-85ae7da01e22"
      },
      "execution_count": 27,
      "outputs": [
        {
          "output_type": "stream",
          "name": "stdout",
          "text": [
            "Dataset de treino :     sn                                           mensagem  classe\n",
            "0   1                         Rofl. Its true to its name       0\n",
            "1   2  The guy did some bitching but I acted like i'd...       0\n",
            "2   3  Pity, * was in mood for that. So...any other s...       0\n",
            "3   4              Will Ã¼ b going to esplanade fr home?       0\n",
            "4   5  This is the 2nd time we have tried 2 contact u...       1\n",
            "\n",
            "Dataset de teste :     sn                                           mensagem  classe\n",
            "0   1  UpgrdCentre Orange customer, you may now claim...       1\n",
            "1   2  Loan for any purpose Â£500 - Â£75,000. Homeown...       1\n",
            "2   3  Congrats! Nokia 3650 video camera phone is you...       1\n",
            "3   4  URGENT! Your Mobile number has been awarded wi...       1\n",
            "4   5  Someone has contacted our dating service and e...       1\n"
          ]
        }
      ]
    },
    {
      "cell_type": "code",
      "source": [
        "# Checando se existem valores nulos\n",
        "print(\"Dataset de treino : \",treino.isna().sum())\n",
        "print()\n",
        "print(\"Dataset de teste : \",teste.isna().sum())"
      ],
      "metadata": {
        "id": "LI0603ocJPqp",
        "colab": {
          "base_uri": "https://localhost:8080/"
        },
        "outputId": "bd7ef21a-2452-4457-e7c2-08ca6edfd866"
      },
      "execution_count": 28,
      "outputs": [
        {
          "output_type": "stream",
          "name": "stdout",
          "text": [
            "Dataset de treino :  sn          0\n",
            "mensagem    0\n",
            "classe      0\n",
            "dtype: int64\n",
            "\n",
            "Dataset de teste :  sn          0\n",
            "mensagem    0\n",
            "classe      0\n",
            "dtype: int64\n"
          ]
        }
      ]
    },
    {
      "cell_type": "code",
      "source": [
        "# Contando as ocorrências dos domínios 0 e 1 na coluna classe\n",
        "print(\"Dataset de treino : \")\n",
        "print(treino['classe'].value_counts())\n",
        "\n",
        "print()\n",
        "print(\"Dataset de teste : \")\n",
        "print(teste['classe'].value_counts())"
      ],
      "metadata": {
        "id": "lnhc3P7qJXWW",
        "colab": {
          "base_uri": "https://localhost:8080/"
        },
        "outputId": "6010fee8-4d68-49b7-ade9-bc9e77e2681a"
      },
      "execution_count": 29,
      "outputs": [
        {
          "output_type": "stream",
          "name": "stdout",
          "text": [
            "Dataset de treino : \n",
            "0    835\n",
            "1    122\n",
            "Name: classe, dtype: int64\n",
            "\n",
            "Dataset de teste : \n",
            "1    76\n",
            "0    49\n",
            "Name: classe, dtype: int64\n"
          ]
        }
      ]
    },
    {
      "cell_type": "code",
      "source": [
        "# Percebemos que o dataset de treino está desbalanceado pois possui quase 8x mais registros classificados como Não-Spam(0)\n",
        "# Faremos então o balanceamento do dataset de treino\n",
        "\n",
        "df_balanceado = treino.loc[treino['classe'] == 1]\n",
        "\n",
        "max_size = len(df_balanceado)\n",
        "\n",
        "categorias = [0, 1]\n",
        "\n",
        "for cat in categorias:\n",
        "    df_temp = treino.loc[treino['classe'] == cat]\n",
        "    df_temp = df_temp.sample(n = max_size)\n",
        "\n",
        "    df_balanceado = pd.concat([df_balanceado, df_temp])\n",
        "\n",
        "treino = df_balanceado\n",
        "\n",
        "print(treino['classe'].value_counts())\n",
        "print(df_balanceado['classe'].value_counts())"
      ],
      "metadata": {
        "colab": {
          "base_uri": "https://localhost:8080/"
        },
        "id": "VKbF0wDygLtd",
        "outputId": "2198660a-23be-4721-a0ce-44a217489a72"
      },
      "execution_count": 30,
      "outputs": [
        {
          "output_type": "stream",
          "name": "stdout",
          "text": [
            "1    244\n",
            "0    122\n",
            "Name: classe, dtype: int64\n",
            "1    244\n",
            "0    122\n",
            "Name: classe, dtype: int64\n"
          ]
        }
      ]
    },
    {
      "cell_type": "markdown",
      "source": [
        "### Limpeza dos dados"
      ],
      "metadata": {
        "id": "whQIQSj-JwVJ"
      }
    },
    {
      "cell_type": "code",
      "source": [
        "# Utilizaremos o método stop_words para retirar as palavras que possuem pouco valor semântico e que aparecem com\n",
        "# frequência nas mensagens tais como : preposições, artigos e conjunções.\n",
        "\n",
        "STOPWORDS = stopwords.words(\"english\")"
      ],
      "metadata": {
        "id": "hLAOsxNOJ183"
      },
      "execution_count": 31,
      "outputs": []
    },
    {
      "cell_type": "code",
      "source": [
        "# Definindo a função de que fará a normalização dos textos nos datasets :\n",
        "# 1. Converteremos todos os caracteres para caixa baixa\n",
        "# 2. Substuiremos alguns termos que não tem valor semântico tais como htts, https, etc\n",
        "# 3. Aplicaremos o método stop_words carregado acima\n",
        "\n",
        "def f_limpeza(text):\n",
        "    text = text.lower()\n",
        "    text = re.sub(\"(http|https|www)(:|\\.)\\S+.com\",\" \",text)\n",
        "    text = re.sub(\"[^\\w\\d]\",\" \",text)\n",
        "    text = \" \".join([t for t in text.split() if t not in STOPWORDS])\n",
        "    return text\n",
        "\n",
        "# Aplicaremos a função de normalização f_limpeza() tanto no dataset de treino quanto de teste\n",
        "treino['msg_limpa'] = treino['mensagem'].apply(f_limpeza)\n",
        "\n",
        "teste['msg_limpa'] = teste['mensagem'].apply(f_limpeza)\n",
        "\n",
        "treino['msg_limpa'][:5]\n"
      ],
      "metadata": {
        "id": "tn4mf5xELjbY",
        "colab": {
          "base_uri": "https://localhost:8080/"
        },
        "outputId": "faaa6892-966e-4cdd-afa7-348c0dccfae3"
      },
      "execution_count": 32,
      "outputs": [
        {
          "output_type": "execute_result",
          "data": {
            "text/plain": [
              "4     2nd time tried 2 contact u u â 750 pound prize...\n",
              "5     reminder o2 get 2 50 pounds free call credit d...\n",
              "30    asked 3mobile 0870 chatlines inclu free mins i...\n",
              "33    want explicit sex 30 secs ring 02073162414 cos...\n",
              "44    private 2003 account statement shows 800 un re...\n",
              "Name: msg_limpa, dtype: object"
            ]
          },
          "metadata": {},
          "execution_count": 32
        }
      ]
    },
    {
      "cell_type": "code",
      "source": [
        "# Hyperpametros\n",
        "vocab_size = 5000\n",
        "max_len = 30\n",
        "\n",
        "seed = 7\n",
        "np.random.seed(seed)\n",
        "set_seed(seed)"
      ],
      "metadata": {
        "id": "-zdEwqPYQhem"
      },
      "execution_count": 33,
      "outputs": []
    },
    {
      "cell_type": "code",
      "source": [
        "# Tokenização e padding\n",
        "\n",
        "token = Tokenizer(num_words=vocab_size)\n",
        "token.fit_on_texts(treino['msg_limpa'])\n",
        "\n",
        "x_train = token.texts_to_sequences(treino['msg_limpa'])\n",
        "\n",
        "x_test = token.texts_to_sequences(teste['msg_limpa'])\n",
        "\n",
        "x_test = teste['msg_limpa'].apply(lambda x : f_limpeza(x))\n",
        "x_test = token.texts_to_sequences(x_test)\n",
        "\n",
        "\n",
        "x_train = treino['msg_limpa'].apply(lambda x : f_limpeza(x))\n",
        "x_train = token.texts_to_sequences(x_train)\n",
        "\n",
        "x_test = pad_sequences(x_test,padding='pre',truncating='pre',maxlen=max_len)\n",
        "x_train = pad_sequences(x_train,maxlen=max_len,padding='pre',truncating='pre')\n",
        "\n",
        "\n",
        "# Aplicando oversampling no dataset de treino\n",
        "ros = RandomOverSampler(random_state=42)\n",
        "x_train = pad_sequences(x_train,maxlen=max_len,padding='pre',truncating='pre')\n",
        "x_train_resampled, y_train_resampled = ros.fit_resample(x_train, treino['classe'])\n",
        "\n"
      ],
      "metadata": {
        "id": "wqaodUP_QmEM"
      },
      "execution_count": 34,
      "outputs": []
    },
    {
      "cell_type": "markdown",
      "source": [
        "## Criação da Rede Neural\n"
      ],
      "metadata": {
        "id": "Q3TB1Sa7nW8H"
      }
    },
    {
      "cell_type": "markdown",
      "source": [
        "Criaremos uma rede neural sequencial composta por camadas empilhadas, utilizando a biblioteca Keras/TensorFlow.\n",
        "\n",
        "A arquitetura da rede neural é composta das seguintes camadas :\n",
        "\n",
        "1. Camada de Embedding: Essa camada recebe como entrada um vetor de palavras e mapeia cada palavra para um vetor denso de tamanho 100. A entrada possui comprimento máximo definido.\n",
        "\n",
        "2. Camada de Dropout: Essa camada aplica a técnica de regularização e desativa aleatoriamente uma porcentagem dos neurônios durante o treinamento.\n",
        "\n",
        "3. Camada LSTM: Essa camada é uma camada de Memória de Longo Prazo Recorrente especializada em processar sequências de dados com dependências de longo prazo.\n",
        "\n",
        "4. Camada de Dropout: Outra camada de Dropout é adicionada após a camada LSTM, com a mesma taxa de dropout da camada anterior.\n",
        "\n",
        "5. Camada Dense: A camada Dense possui um único neurônio com função de ativação sigmoid, que produz uma saída binária (0 ou 1).\n",
        "\n",
        "O modelo é compilado com uma função de perda binária_crossentropy, um otimizador Adam e a métrica de precisão para avaliação do desempenho."
      ],
      "metadata": {
        "id": "sOc7H9aMnopP"
      }
    },
    {
      "cell_type": "markdown",
      "source": [
        "####  Inicialização da RN"
      ],
      "metadata": {
        "id": "1JhuXvF6jy2d"
      }
    },
    {
      "cell_type": "markdown",
      "source": [
        "###Identificação dos melhores Hiperparâmetros"
      ],
      "metadata": {
        "id": "3BHwur91W9Oc"
      }
    },
    {
      "cell_type": "code",
      "source": [
        "def f_modelo(dropout_rate, lstm_units):\n",
        "    seed = 7\n",
        "    np.random.seed(seed)\n",
        "    set_seed(seed)\n",
        "\n",
        "    model = Sequential([\n",
        "        Embedding(vocab_size, 100, input_length=max_len),\n",
        "        Dropout(dropout_rate),\n",
        "        LSTM(lstm_units),\n",
        "        Dropout(dropout_rate),\n",
        "        Dense(1, activation='sigmoid')\n",
        "    ])\n",
        "    model.compile(loss='binary_crossentropy', optimizer='adam', metrics=['acc'])\n",
        "    return model\n",
        "\n",
        "model = KerasClassifier(build_fn=f_modelo)\n",
        "\n",
        "param_dist = {\n",
        "    'dropout_rate': uniform(0.2, 0.3),\n",
        "    'lstm_units': [100, 200, 300]\n",
        "}\n",
        "\n",
        "random_search = RandomizedSearchCV(estimator=model, param_distributions=param_dist, cv=3, n_iter=3)\n",
        "random_search_result = random_search.fit(x_train, treino['classe'], epochs=5, batch_size=32, validation_data=(x_test, teste['classe']))\n",
        "\n",
        "print(\"Melhor Resultado: %f Hiperparâmetros : %s\" % (random_search_result.best_score_, random_search_result.best_params_))"
      ],
      "metadata": {
        "id": "gh-464VSV-Vo",
        "colab": {
          "base_uri": "https://localhost:8080/"
        },
        "outputId": "ddbb7d83-b753-41ff-f754-6a1b8119ee64"
      },
      "execution_count": 35,
      "outputs": [
        {
          "output_type": "stream",
          "name": "stdout",
          "text": [
            "Epoch 1/5\n",
            "8/8 [==============================] - 5s 210ms/step - loss: 0.6571 - acc: 0.6967 - val_loss: 0.8480 - val_acc: 0.3920\n",
            "Epoch 2/5\n",
            "8/8 [==============================] - 1s 107ms/step - loss: 0.5246 - acc: 0.7828 - val_loss: 0.6206 - val_acc: 0.6960\n",
            "Epoch 3/5\n",
            "8/8 [==============================] - 1s 155ms/step - loss: 0.3454 - acc: 0.8934 - val_loss: 1.3022 - val_acc: 0.6000\n",
            "Epoch 4/5\n",
            "8/8 [==============================] - 1s 168ms/step - loss: 0.2493 - acc: 0.8893 - val_loss: 0.3080 - val_acc: 0.8720\n",
            "Epoch 5/5\n",
            "8/8 [==============================] - 1s 190ms/step - loss: 0.1291 - acc: 0.9713 - val_loss: 0.2403 - val_acc: 0.9040\n",
            "4/4 [==============================] - 1s 27ms/step - loss: 0.0830 - acc: 0.9513\n",
            "Epoch 1/5\n",
            "8/8 [==============================] - 4s 184ms/step - loss: 0.5383 - acc: 0.9344 - val_loss: 3.1854 - val_acc: 0.3920\n",
            "Epoch 2/5\n",
            "8/8 [==============================] - 1s 106ms/step - loss: 0.0016 - acc: 1.0000 - val_loss: 5.7433 - val_acc: 0.3920\n",
            "Epoch 3/5\n",
            "8/8 [==============================] - 1s 106ms/step - loss: 5.0298e-05 - acc: 1.0000 - val_loss: 6.6642 - val_acc: 0.3920\n",
            "Epoch 4/5\n",
            "8/8 [==============================] - 1s 106ms/step - loss: 1.4720e-05 - acc: 1.0000 - val_loss: 7.0854 - val_acc: 0.3920\n",
            "Epoch 5/5\n",
            "8/8 [==============================] - 1s 116ms/step - loss: 8.7106e-06 - acc: 1.0000 - val_loss: 7.2831 - val_acc: 0.3920\n",
            "4/4 [==============================] - 1s 26ms/step - loss: 6.2077e-06 - acc: 1.0000\n",
            "Epoch 1/5\n",
            "8/8 [==============================] - 5s 246ms/step - loss: 0.6618 - acc: 0.5369 - val_loss: 0.7291 - val_acc: 0.4080\n",
            "Epoch 2/5\n",
            "8/8 [==============================] - 1s 114ms/step - loss: 0.4612 - acc: 0.8115 - val_loss: 0.4179 - val_acc: 0.8320\n",
            "Epoch 3/5\n",
            "8/8 [==============================] - 1s 118ms/step - loss: 0.3940 - acc: 0.8770 - val_loss: 0.2909 - val_acc: 0.9120\n",
            "Epoch 4/5\n",
            "8/8 [==============================] - 1s 112ms/step - loss: 0.2504 - acc: 0.9139 - val_loss: 0.5710 - val_acc: 0.7200\n",
            "Epoch 5/5\n",
            "8/8 [==============================] - 1s 113ms/step - loss: 0.1762 - acc: 0.9754 - val_loss: 0.2824 - val_acc: 0.9040\n",
            "4/4 [==============================] - 1s 27ms/step - loss: 0.1395 - acc: 0.9591\n",
            "Epoch 1/5\n",
            "8/8 [==============================] - 5s 159ms/step - loss: 0.6753 - acc: 0.7787 - val_loss: 0.6506 - val_acc: 0.6080\n",
            "Epoch 2/5\n",
            "8/8 [==============================] - 0s 48ms/step - loss: 0.5698 - acc: 0.7213 - val_loss: 0.6154 - val_acc: 0.5840\n",
            "Epoch 3/5\n",
            "8/8 [==============================] - 0s 51ms/step - loss: 0.3924 - acc: 0.9139 - val_loss: 0.6385 - val_acc: 0.7280\n",
            "Epoch 4/5\n",
            "8/8 [==============================] - 0s 50ms/step - loss: 0.2646 - acc: 0.9303 - val_loss: 0.3420 - val_acc: 0.8720\n",
            "Epoch 5/5\n",
            "8/8 [==============================] - 0s 54ms/step - loss: 0.1705 - acc: 0.9426 - val_loss: 0.2820 - val_acc: 0.8880\n",
            "4/4 [==============================] - 1s 12ms/step - loss: 0.1431 - acc: 0.9513\n",
            "Epoch 1/5\n",
            "8/8 [==============================] - 3s 133ms/step - loss: 0.6344 - acc: 0.9344 - val_loss: 0.8028 - val_acc: 0.3920\n",
            "Epoch 2/5\n",
            "8/8 [==============================] - 0s 46ms/step - loss: 0.1583 - acc: 1.0000 - val_loss: 3.4447 - val_acc: 0.3920\n",
            "Epoch 3/5\n",
            "8/8 [==============================] - 1s 75ms/step - loss: 0.0021 - acc: 1.0000 - val_loss: 4.4439 - val_acc: 0.3920\n",
            "Epoch 4/5\n",
            "8/8 [==============================] - 1s 76ms/step - loss: 6.1566e-04 - acc: 1.0000 - val_loss: 5.0170 - val_acc: 0.3920\n",
            "Epoch 5/5\n",
            "8/8 [==============================] - 1s 83ms/step - loss: 2.7211e-04 - acc: 1.0000 - val_loss: 5.3388 - val_acc: 0.3920\n",
            "4/4 [==============================] - 1s 10ms/step - loss: 1.5750e-04 - acc: 1.0000\n",
            "Epoch 1/5\n",
            "8/8 [==============================] - 3s 136ms/step - loss: 0.6773 - acc: 0.5451 - val_loss: 0.6536 - val_acc: 0.4240\n",
            "Epoch 2/5\n",
            "8/8 [==============================] - 0s 52ms/step - loss: 0.5508 - acc: 0.6680 - val_loss: 0.5787 - val_acc: 0.6880\n",
            "Epoch 3/5\n",
            "8/8 [==============================] - 0s 57ms/step - loss: 0.3832 - acc: 0.8975 - val_loss: 0.6636 - val_acc: 0.7360\n",
            "Epoch 4/5\n",
            "8/8 [==============================] - 0s 52ms/step - loss: 0.2931 - acc: 0.8934 - val_loss: 0.6564 - val_acc: 0.7680\n",
            "Epoch 5/5\n",
            "8/8 [==============================] - 0s 55ms/step - loss: 0.1702 - acc: 0.9426 - val_loss: 0.2764 - val_acc: 0.8880\n",
            "4/4 [==============================] - 1s 12ms/step - loss: 0.1357 - acc: 0.9591\n",
            "Epoch 1/5\n",
            "8/8 [==============================] - 5s 169ms/step - loss: 0.6762 - acc: 0.7869 - val_loss: 0.6519 - val_acc: 0.5680\n",
            "Epoch 2/5\n",
            "8/8 [==============================] - 0s 49ms/step - loss: 0.5711 - acc: 0.6885 - val_loss: 0.6310 - val_acc: 0.5440\n",
            "Epoch 3/5\n",
            "8/8 [==============================] - 0s 47ms/step - loss: 0.3874 - acc: 0.9139 - val_loss: 0.7304 - val_acc: 0.6960\n",
            "Epoch 4/5\n",
            "8/8 [==============================] - 0s 50ms/step - loss: 0.2710 - acc: 0.9098 - val_loss: 0.3832 - val_acc: 0.8400\n",
            "Epoch 5/5\n",
            "8/8 [==============================] - 0s 53ms/step - loss: 0.1912 - acc: 0.9385 - val_loss: 0.3410 - val_acc: 0.8800\n",
            "4/4 [==============================] - 1s 11ms/step - loss: 0.1589 - acc: 0.9513\n",
            "Epoch 1/5\n",
            "8/8 [==============================] - 5s 133ms/step - loss: 0.6476 - acc: 0.9221 - val_loss: 0.7587 - val_acc: 0.3920\n",
            "Epoch 2/5\n",
            "8/8 [==============================] - 0s 47ms/step - loss: 0.2058 - acc: 1.0000 - val_loss: 3.1490 - val_acc: 0.3920\n",
            "Epoch 3/5\n",
            "8/8 [==============================] - 0s 52ms/step - loss: 0.0033 - acc: 1.0000 - val_loss: 4.1339 - val_acc: 0.3920\n",
            "Epoch 4/5\n",
            "8/8 [==============================] - 0s 49ms/step - loss: 0.0010 - acc: 1.0000 - val_loss: 4.7374 - val_acc: 0.3920\n",
            "Epoch 5/5\n",
            "8/8 [==============================] - 0s 51ms/step - loss: 3.9223e-04 - acc: 1.0000 - val_loss: 5.0755 - val_acc: 0.3920\n",
            "4/4 [==============================] - 1s 21ms/step - loss: 2.4133e-04 - acc: 1.0000\n",
            "Epoch 1/5\n",
            "8/8 [==============================] - 4s 127ms/step - loss: 0.6758 - acc: 0.5902 - val_loss: 0.6469 - val_acc: 0.5040\n",
            "Epoch 2/5\n",
            "8/8 [==============================] - 0s 57ms/step - loss: 0.5425 - acc: 0.7008 - val_loss: 0.5591 - val_acc: 0.7200\n",
            "Epoch 3/5\n",
            "8/8 [==============================] - 0s 49ms/step - loss: 0.3791 - acc: 0.9057 - val_loss: 0.6863 - val_acc: 0.7200\n",
            "Epoch 4/5\n",
            "8/8 [==============================] - 0s 46ms/step - loss: 0.2938 - acc: 0.8852 - val_loss: 0.7091 - val_acc: 0.7440\n",
            "Epoch 5/5\n",
            "8/8 [==============================] - 0s 50ms/step - loss: 0.1797 - acc: 0.9467 - val_loss: 0.2546 - val_acc: 0.9120\n",
            "4/4 [==============================] - 1s 11ms/step - loss: 0.1245 - acc: 0.9669\n",
            "Epoch 1/5\n",
            "12/12 [==============================] - 3s 99ms/step - loss: 0.6534 - acc: 0.8142 - val_loss: 0.5819 - val_acc: 0.7520\n",
            "Epoch 2/5\n",
            "12/12 [==============================] - 1s 46ms/step - loss: 0.3762 - acc: 0.8934 - val_loss: 0.2849 - val_acc: 0.8880\n",
            "Epoch 3/5\n",
            "12/12 [==============================] - 1s 44ms/step - loss: 0.1851 - acc: 0.9317 - val_loss: 0.2788 - val_acc: 0.8880\n",
            "Epoch 4/5\n",
            "12/12 [==============================] - 1s 46ms/step - loss: 0.0964 - acc: 0.9617 - val_loss: 0.2105 - val_acc: 0.9280\n",
            "Epoch 5/5\n",
            "12/12 [==============================] - 1s 48ms/step - loss: 0.0496 - acc: 0.9836 - val_loss: 0.1619 - val_acc: 0.9200\n",
            "Melhor Resultado: 0.972756 Hiperparâmetros : {'dropout_rate': 0.2924038295563218, 'lstm_units': 100}\n"
          ]
        }
      ]
    },
    {
      "cell_type": "markdown",
      "source": [
        "### Observações sobre os Hiperparâmetros\n",
        "\n",
        "Executamos diversas rodadas de busca dos hiperparâmetros com diferentes valores de época. Os melhores resultados que obtivemos no treino e testes foram com {'dropout_rate': 0.2260230289519976, 'lstm_units': 300}.\n"
      ],
      "metadata": {
        "id": "7-EbWqOPADIP"
      }
    },
    {
      "cell_type": "markdown",
      "source": [
        "### Treinamento e Teste do Modelo"
      ],
      "metadata": {
        "id": "WyHb5fZkR_79"
      }
    },
    {
      "cell_type": "markdown",
      "source": [
        "####Utilização dos Hiperparâmetros Otimizados"
      ],
      "metadata": {
        "id": "--ol7brOpg8y"
      }
    },
    {
      "cell_type": "code",
      "source": [
        "# HIPERPARÂMETROS OTIMIZADOS\n",
        "\n",
        "model = Sequential([\n",
        "    Embedding(vocab_size, 100, input_length=max_len),\n",
        "    Dropout(0.2260230289519976),\n",
        "    LSTM(300),\n",
        "    Dropout(0.2260230289519976),\n",
        "    Dense(1, activation='sigmoid')\n",
        "])\n",
        "\n",
        "model.compile(loss='binary_crossentropy', optimizer='adam', metrics=['acc'])\n",
        "\n",
        "model.summary()\n",
        "\n",
        "history = model.fit(x_train, treino['classe'], epochs=5, batch_size=32, validation_data=(x_test, teste['classe']))\n",
        "\n"
      ],
      "metadata": {
        "id": "LtmUQcddXo8g",
        "colab": {
          "base_uri": "https://localhost:8080/"
        },
        "outputId": "32dd0852-2a48-43df-a4d0-78996ce4464d"
      },
      "execution_count": 36,
      "outputs": [
        {
          "output_type": "stream",
          "name": "stdout",
          "text": [
            "Model: \"sequential_21\"\n",
            "_________________________________________________________________\n",
            " Layer (type)                Output Shape              Param #   \n",
            "=================================================================\n",
            " embedding_21 (Embedding)    (None, 30, 100)           500000    \n",
            "                                                                 \n",
            " dropout_42 (Dropout)        (None, 30, 100)           0         \n",
            "                                                                 \n",
            " lstm_21 (LSTM)              (None, 300)               481200    \n",
            "                                                                 \n",
            " dropout_43 (Dropout)        (None, 300)               0         \n",
            "                                                                 \n",
            " dense_21 (Dense)            (None, 1)                 301       \n",
            "                                                                 \n",
            "=================================================================\n",
            "Total params: 981,501\n",
            "Trainable params: 981,501\n",
            "Non-trainable params: 0\n",
            "_________________________________________________________________\n",
            "Epoch 1/5\n",
            "12/12 [==============================] - 6s 250ms/step - loss: 0.5609 - acc: 0.8142 - val_loss: 0.3759 - val_acc: 0.8960\n",
            "Epoch 2/5\n",
            "12/12 [==============================] - 2s 166ms/step - loss: 0.3005 - acc: 0.8907 - val_loss: 0.3111 - val_acc: 0.9040\n",
            "Epoch 3/5\n",
            "12/12 [==============================] - 2s 151ms/step - loss: 0.1621 - acc: 0.9344 - val_loss: 0.2191 - val_acc: 0.9120\n",
            "Epoch 4/5\n",
            "12/12 [==============================] - 2s 177ms/step - loss: 0.0839 - acc: 0.9645 - val_loss: 0.1761 - val_acc: 0.9200\n",
            "Epoch 5/5\n",
            "12/12 [==============================] - 3s 248ms/step - loss: 0.0382 - acc: 0.9918 - val_loss: 0.1408 - val_acc: 0.9360\n"
          ]
        }
      ]
    },
    {
      "cell_type": "markdown",
      "source": [
        "####Visualização dos Resultados"
      ],
      "metadata": {
        "id": "1DY_itM4SNiU"
      }
    },
    {
      "cell_type": "code",
      "source": [
        "history_df = pd.DataFrame(history.history)\n",
        "history_df[['acc', 'val_acc']].rename(columns={'acc': 'Treino', 'val_acc': 'Teste'}).plot(title='Precisão')\n",
        "plt.xlabel('Épocas')\n",
        "plt.ylabel('Precisão')\n",
        "plt.legend(title='Dados')\n",
        "plt.show()\n",
        "\n",
        "history_df[['loss', 'val_loss']].rename(columns={'loss': 'Treino', 'val_loss': 'Teste'}).plot(title='Perda')\n",
        "plt.xlabel('Épocas')\n",
        "plt.ylabel('Perda')\n",
        "plt.legend(title='Dados')\n",
        "plt.show()\n"
      ],
      "metadata": {
        "id": "aaJoMFPOSc-b",
        "colab": {
          "base_uri": "https://localhost:8080/",
          "height": 931
        },
        "outputId": "f4ca8fca-e1c3-47ac-baef-8a27d97ca466"
      },
      "execution_count": 37,
      "outputs": [
        {
          "output_type": "display_data",
          "data": {
            "text/plain": [
              "<Figure size 640x480 with 1 Axes>"
            ],
            "image/png": "[encoded data removed]"
          },
          "metadata": {}
        },
        {
          "output_type": "display_data",
          "data": {
            "text/plain": [
              "<Figure size 640x480 with 1 Axes>"
            ],
            "image/png": "[encoded data removed]"
          },
          "metadata": {}
        }
      ]
    },
    {
      "cell_type": "code",
      "source": [
        "loss,acc = model.evaluate(x_train,treino['classe'])\n",
        "print()\n",
        "print ('Resultados do Treino :')\n",
        "print()\n",
        "print('Precisão: {:.2f}%'.format(acc * 100))\n",
        "\n",
        "print()\n",
        "print('Perda: {:.2f}%'.format(loss * 100))\n",
        "print('-------------------------------------------------------------------')\n",
        "loss,acc = model.evaluate(x_test,teste['classe'])\n",
        "print()\n",
        "print ('Resultados do Teste :')\n",
        "print()\n",
        "print('Precisão: {:.2f}%'.format(acc * 100))\n",
        "\n",
        "print()\n",
        "print('Perda: {:.2f}%'.format(loss * 100))"
      ],
      "metadata": {
        "id": "jy_m2AunUGdc",
        "colab": {
          "base_uri": "https://localhost:8080/"
        },
        "outputId": "82326777-bd5b-4fd8-933f-933b8238bcae"
      },
      "execution_count": 38,
      "outputs": [
        {
          "output_type": "stream",
          "name": "stdout",
          "text": [
            "12/12 [==============================] - 0s 40ms/step - loss: 0.0298 - acc: 0.9973\n",
            "\n",
            "Resultados do Treino :\n",
            "\n",
            "Precisão: 99.73%\n",
            "\n",
            "Perda: 2.98%\n",
            "-------------------------------------------------------------------\n",
            "4/4 [==============================] - 0s 41ms/step - loss: 0.1408 - acc: 0.9360\n",
            "\n",
            "Resultados do Teste :\n",
            "\n",
            "Precisão: 93.60%\n",
            "\n",
            "Perda: 14.08%\n"
          ]
        }
      ]
    },
    {
      "cell_type": "markdown",
      "source": [
        "####Salvando o modelo"
      ],
      "metadata": {
        "id": "IvOB5C3I43tg"
      }
    },
    {
      "cell_type": "code",
      "source": [
        "#monta o google drive para salvar o modelo\n",
        "\n",
        "# from google.colab import drive\n",
        "# drive.mount('/content/gdrive', force_remount=True)\n",
        "\n",
        "# acessa a pasta montada\n",
        "#%cd /content/gdrive/MyDrive/Colab Notebooks/Machine Learning/Sprint 2/MVP/"
      ],
      "metadata": {
        "id": "By2Ct4meqr_u"
      },
      "execution_count": 39,
      "outputs": []
    },
    {
      "cell_type": "code",
      "source": [
        "\n",
        "# salvando o modelo\n",
        "# O modelo foi salvo no google drive e disponibilizado no GitHub com o nome Ml_NotebookB.h5\n",
        "\n",
        "#model.save(\"/content/gdrive/MyDrive/Colab Notebooks/Machine Learning/Sprint 2/MVP/Ml_NotebookB.h5\")\n",
        "#print(\"Modelo salvo com sucesso!\")"
      ],
      "metadata": {
        "id": "6cXaGtGC9U6g"
      },
      "execution_count": 40,
      "outputs": []
    },
    {
      "cell_type": "markdown",
      "source": [
        "O modelo foi salvo no google drive e disponibilizado no GitHub com o nome Ml_NotebookB.h5"
      ],
      "metadata": {
        "id": "hut1gATr40lf"
      }
    },
    {
      "cell_type": "markdown",
      "source": [
        "### Conclusões Finais\n",
        "Fizemos diversas rodadas de treino variando a quantidade de épocas. Foi com 5 épocas que obtivemos os melhores resultados.\n",
        "\n",
        "Observamos que a perda diminui e a precisão aumenta ao longo das épocas no conjunto de treinamento, o que indica que o modelo está aprendendo a partir desse conjunto de dados. O mesmo comportamento observamos no conjunto de  teste, embora em alguns casos possam acontecer flutuações.\n",
        "\n",
        "Ao final do treinamento, o modelo alcançou uma precisão acima de 90% para o conjunto de teste, o que nos leva a concluir que o modelo está aprendendo a partir dos dados, indicando um bom desempenho na classificação binária.\n"
      ],
      "metadata": {
        "id": "Z9JVuoxlKNMx"
      }
    }
  ]
}