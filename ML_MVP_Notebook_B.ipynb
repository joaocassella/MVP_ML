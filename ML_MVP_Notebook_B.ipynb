{
  "nbformat": 4,
  "nbformat_minor": 0,
  "metadata": {
    "colab": {
      "provenance": [],
      "include_colab_link": true
    },
    "kernelspec": {
      "name": "python3",
      "display_name": "Python 3"
    },
    "language_info": {
      "name": "python"
    }
  },
  "cells": [
    {
      "cell_type": "markdown",
      "metadata": {
        "id": "view-in-github",
        "colab_type": "text"
      },
      "source": [
        "<a href=\"https://colab.research.google.com/github/joaocassella/MVP_ML/blob/main/ML_MVP_Notebook_B.ipynb\" target=\"_parent\"><img src=\"https://colab.research.google.com/assets/colab-badge.svg\" alt=\"Open In Colab\"/></a>"
      ]
    },
    {
      "cell_type": "markdown",
      "source": [
        "# Machine Learning - Notebook B\n",
        "# Professores :\n",
        "  * Tatiana Escovedo\n",
        "  * Augusto Baffa\n",
        "  * Luiz Schirmer\n",
        "\n",
        "# Aluno : João Cassella"
      ],
      "metadata": {
        "id": "XRGmOwGF5VBu"
      }
    },
    {
      "cell_type": "markdown",
      "source": [
        "##Definição do Problema\n",
        "1O problema proposto é a classificação de emails entre spam ou não spam, a partir da análise da mensagem.\n",
        "\n",
        "Foi utilizado o dataset E-Mail classification NLP hospedado em no site kaggle, [Clique aqui](https://www.kaggle.com/datasets/datatattle/email-classification-nlp) para acessar a página do dataset.\n",
        "\n",
        "O conjunto de dados é composto de 2 datasets, um de treino e outro de testes, ambos no formato csv"
      ],
      "metadata": {
        "id": "iQio7JR1635I"
      }
    },
    {
      "cell_type": "markdown",
      "source": [
        "##Informações sobre os atributos\n",
        "\n",
        "O dataset contém 3 atributos descritos a seguir :\n",
        "\n",
        "* nr - Número da linha\n",
        "* mensagem - Texto da mensagem do email (corpo do email)\n",
        "* classe - Classificação (Spam / Non-Spam)\n"
      ],
      "metadata": {
        "id": "CdYwPHTw7Cz-"
      }
    },
    {
      "cell_type": "markdown",
      "source": [
        "##Importação das bibliotecas\n",
        "\n"
      ],
      "metadata": {
        "id": "1g112FbKUDsv"
      }
    },
    {
      "cell_type": "code",
      "execution_count": 1,
      "metadata": {
        "id": "sDfGzJRa28iT",
        "colab": {
          "base_uri": "https://localhost:8080/"
        },
        "outputId": "d0970cb9-c329-43b4-8a8e-09e8d694a997"
      },
      "outputs": [
        {
          "output_type": "stream",
          "name": "stderr",
          "text": [
            "[nltk_data] Downloading package stopwords to /root/nltk_data...\n",
            "[nltk_data]   Unzipping corpora/stopwords.zip.\n"
          ]
        }
      ],
      "source": [
        "# Configuração para não exibir os warnings\n",
        "import warnings\n",
        "warnings.filterwarnings(\"ignore\")\n",
        "\n",
        "import numpy as np # linear algebra\n",
        "import pandas as pd # data processing, CSV file I/O (e.g. pd.read_csv)\n",
        "import matplotlib.pyplot as plt\n",
        "import re\n",
        "from tensorflow.keras.models import Sequential\n",
        "from tensorflow.keras.layers import Embedding,LSTM,Dropout,Dense\n",
        "from tensorflow.keras.preprocessing.text import Tokenizer\n",
        "from tensorflow.keras.preprocessing.sequence import pad_sequences\n",
        "from tensorflow.keras.wrappers.scikit_learn import KerasClassifier\n",
        "from sklearn.model_selection import RandomizedSearchCV\n",
        "from scipy.stats import uniform\n",
        "from tensorflow.random import set_seed\n",
        "\n",
        "import nltk\n",
        "from nltk.corpus import stopwords\n",
        "from imblearn.over_sampling import RandomOverSampler\n",
        "\n",
        "nltk.download('stopwords')\n",
        "stop_words = stopwords.words('english')\n",
        "\n"
      ]
    },
    {
      "cell_type": "markdown",
      "source": [
        "## Datasets"
      ],
      "metadata": {
        "id": "JR5sGvz4UNk3"
      }
    },
    {
      "cell_type": "markdown",
      "source": [
        "### Carga Treino e Teste"
      ],
      "metadata": {
        "id": "GLI69rlBV6qj"
      }
    },
    {
      "cell_type": "code",
      "source": [
        "# Carregando os datasets de treino e teste\n",
        "\n",
        "treino = pd.read_csv(\"https://raw.githubusercontent.com/joaocassella/MVP_ML/main/SMS_train.csv\", delimiter=',',encoding='latin-1')\n",
        "teste = pd.read_csv(\"https://raw.githubusercontent.com/joaocassella/MVP_ML/main/SMS_test.csv\", delimiter=',',encoding='latin-1')\n",
        "\n",
        "print(treino.head())\n",
        "\n",
        "print(teste.head())\n"
      ],
      "metadata": {
        "id": "awghaAZH3AbE",
        "colab": {
          "base_uri": "https://localhost:8080/"
        },
        "outputId": "8105edef-588f-4495-bcd2-260c944457ac"
      },
      "execution_count": 2,
      "outputs": [
        {
          "output_type": "stream",
          "name": "stdout",
          "text": [
            "   sn                                           mensagem    classe\n",
            "0   1                         Rofl. Its true to its name  Non-Spam\n",
            "1   2  The guy did some bitching but I acted like i'd...  Non-Spam\n",
            "2   3  Pity, * was in mood for that. So...any other s...  Non-Spam\n",
            "3   4              Will Ã¼ b going to esplanade fr home?  Non-Spam\n",
            "4   5  This is the 2nd time we have tried 2 contact u...      Spam\n",
            "   sn                                           mensagem classe\n",
            "0   1  UpgrdCentre Orange customer, you may now claim...   Spam\n",
            "1   2  Loan for any purpose Â£500 - Â£75,000. Homeown...   Spam\n",
            "2   3  Congrats! Nokia 3650 video camera phone is you...   Spam\n",
            "3   4  URGENT! Your Mobile number has been awarded wi...   Spam\n",
            "4   5  Someone has contacted our dating service and e...   Spam\n"
          ]
        }
      ]
    },
    {
      "cell_type": "markdown",
      "source": [
        "### Informações"
      ],
      "metadata": {
        "id": "5Qr9FyunVvkE"
      }
    },
    {
      "cell_type": "code",
      "source": [
        "# Exibindo as dimensões dos datasets\n",
        "print(\"Dataset de treino : \",treino.shape)\n",
        "print()\n",
        "print(\"Dataset de teste : \",teste.shape)"
      ],
      "metadata": {
        "id": "vD4iAE_zmPlN",
        "colab": {
          "base_uri": "https://localhost:8080/"
        },
        "outputId": "5c9206b0-7ba5-498d-f287-d30807d4f572"
      },
      "execution_count": 3,
      "outputs": [
        {
          "output_type": "stream",
          "name": "stdout",
          "text": [
            "Dataset de treino :  (957, 3)\n",
            "\n",
            "Dataset de teste :  (125, 3)\n"
          ]
        }
      ]
    },
    {
      "cell_type": "code",
      "source": [
        "# Exibindo as informações dos Datasets\n",
        "print(\"Dataset de treino : \",treino.describe())\n",
        "print()\n",
        "print(\"Dataset de teste : \",teste.describe())\n"
      ],
      "metadata": {
        "id": "8-fWsb_cnmce",
        "colab": {
          "base_uri": "https://localhost:8080/"
        },
        "outputId": "1c0cec80-02ac-4dfe-8f63-4914062fe6d3"
      },
      "execution_count": 4,
      "outputs": [
        {
          "output_type": "stream",
          "name": "stdout",
          "text": [
            "Dataset de treino :                 sn\n",
            "count  957.000000\n",
            "mean   479.000000\n",
            "std    276.406404\n",
            "min      1.000000\n",
            "25%    240.000000\n",
            "50%    479.000000\n",
            "75%    718.000000\n",
            "max    957.000000\n",
            "\n",
            "Dataset de teste :                 sn\n",
            "count  125.000000\n",
            "mean    63.000000\n",
            "std     36.228442\n",
            "min      1.000000\n",
            "25%     32.000000\n",
            "50%     63.000000\n",
            "75%     94.000000\n",
            "max    125.000000\n"
          ]
        }
      ]
    },
    {
      "cell_type": "markdown",
      "source": [
        "###Preparação"
      ],
      "metadata": {
        "id": "PYHt6uM9WILA"
      }
    },
    {
      "cell_type": "code",
      "source": [
        "# Substituindo os valores da coluna classe nos 2 datasets, para 0-1\n",
        "\n",
        "treino['classe'] = treino['classe'].replace({\"Non-Spam\": 0, \"Spam\": 1})\n",
        "teste['classe'] = teste['classe'].replace({\"Non-Spam\": 0, \"Spam\": 1})\n",
        "\n",
        "print(\"Dataset de treino : \",treino.head())\n",
        "print()\n",
        "print(\"Dataset de teste : \",teste.head())"
      ],
      "metadata": {
        "id": "oSssda3HCZVe",
        "colab": {
          "base_uri": "https://localhost:8080/"
        },
        "outputId": "c37fc264-571d-4c7e-83c1-d6827e512930"
      },
      "execution_count": 5,
      "outputs": [
        {
          "output_type": "stream",
          "name": "stdout",
          "text": [
            "Dataset de treino :     sn                                           mensagem  classe\n",
            "0   1                         Rofl. Its true to its name       0\n",
            "1   2  The guy did some bitching but I acted like i'd...       0\n",
            "2   3  Pity, * was in mood for that. So...any other s...       0\n",
            "3   4              Will Ã¼ b going to esplanade fr home?       0\n",
            "4   5  This is the 2nd time we have tried 2 contact u...       1\n",
            "\n",
            "Dataset de teste :     sn                                           mensagem  classe\n",
            "0   1  UpgrdCentre Orange customer, you may now claim...       1\n",
            "1   2  Loan for any purpose Â£500 - Â£75,000. Homeown...       1\n",
            "2   3  Congrats! Nokia 3650 video camera phone is you...       1\n",
            "3   4  URGENT! Your Mobile number has been awarded wi...       1\n",
            "4   5  Someone has contacted our dating service and e...       1\n"
          ]
        }
      ]
    },
    {
      "cell_type": "code",
      "source": [
        "# Checando se existem valores nulos\n",
        "print(\"Dataset de treino : \",treino.isna().sum())\n",
        "print()\n",
        "print(\"Dataset de teste : \",teste.isna().sum())"
      ],
      "metadata": {
        "id": "LI0603ocJPqp",
        "colab": {
          "base_uri": "https://localhost:8080/"
        },
        "outputId": "55357f6a-41fa-43b6-ee00-19d8f43ffe81"
      },
      "execution_count": 6,
      "outputs": [
        {
          "output_type": "stream",
          "name": "stdout",
          "text": [
            "Dataset de treino :  sn          0\n",
            "mensagem    0\n",
            "classe      0\n",
            "dtype: int64\n",
            "\n",
            "Dataset de teste :  sn          0\n",
            "mensagem    0\n",
            "classe      0\n",
            "dtype: int64\n"
          ]
        }
      ]
    },
    {
      "cell_type": "code",
      "source": [
        "# Contando as ocorrências dos domínios 0 e 1 na coluna classe\n",
        "print(\"Dataset de treino : \")\n",
        "print(treino['classe'].value_counts())\n",
        "\n",
        "print()\n",
        "print(\"Dataset de teste : \")\n",
        "print(teste['classe'].value_counts())"
      ],
      "metadata": {
        "id": "lnhc3P7qJXWW",
        "colab": {
          "base_uri": "https://localhost:8080/"
        },
        "outputId": "ad9b7791-44cc-4d1c-cdb7-0963dee226fc"
      },
      "execution_count": 7,
      "outputs": [
        {
          "output_type": "stream",
          "name": "stdout",
          "text": [
            "Dataset de treino : \n",
            "0    835\n",
            "1    122\n",
            "Name: classe, dtype: int64\n",
            "\n",
            "Dataset de teste : \n",
            "1    76\n",
            "0    49\n",
            "Name: classe, dtype: int64\n"
          ]
        }
      ]
    },
    {
      "cell_type": "code",
      "source": [
        "# Percebemos que o dataset de treino está desbalanceado pois possui quase 8x mais registros classificados como Não-Spam(0)\n",
        "# Faremos então o balanceamento do dataset de treino\n",
        "\n",
        "df_balanceado = treino.loc[treino['classe'] == 1]\n",
        "\n",
        "max_size = len(df_balanceado)\n",
        "\n",
        "categorias = [0, 1]\n",
        "\n",
        "for cat in categorias:\n",
        "    df_temp = treino.loc[treino['classe'] == cat]\n",
        "    df_temp = df_temp.sample(n = max_size)\n",
        "\n",
        "    df_balanceado = pd.concat([df_balanceado, df_temp])\n",
        "\n",
        "treino = df_balanceado\n",
        "\n",
        "print(treino['classe'].value_counts())\n",
        "print(df_balanceado['classe'].value_counts())\n",
        "print(df_balanceado.head())"
      ],
      "metadata": {
        "colab": {
          "base_uri": "https://localhost:8080/"
        },
        "id": "VKbF0wDygLtd",
        "outputId": "1239d38a-1c50-4ccd-9584-8d59cfcb3a36"
      },
      "execution_count": 8,
      "outputs": [
        {
          "output_type": "stream",
          "name": "stdout",
          "text": [
            "1    244\n",
            "0    122\n",
            "Name: classe, dtype: int64\n",
            "1    244\n",
            "0    122\n",
            "Name: classe, dtype: int64\n",
            "    sn                                           mensagem  classe\n",
            "4    5  This is the 2nd time we have tried 2 contact u...       1\n",
            "5    6  REMINDER FROM O2: To get 2.50 pounds free call...       1\n",
            "30  31  ASKED 3MOBILE IF 0870 CHATLINES INCLU IN FREE ...       1\n",
            "33  34  Want explicit SEX in 30 secs? Ring 02073162414...       1\n",
            "44  45  PRIVATE! Your 2003 Account Statement for shows...       1\n"
          ]
        }
      ]
    },
    {
      "cell_type": "code",
      "source": [
        "# Contando as ocorrências dos domínios 0 e 1 na coluna classe\n",
        "print(\"Dataset de treino : \")\n",
        "print(treino['classe'].value_counts())\n",
        "\n",
        "print()\n",
        "print(\"Dataset de teste : \")\n",
        "print(teste['classe'].value_counts())"
      ],
      "metadata": {
        "colab": {
          "base_uri": "https://localhost:8080/"
        },
        "id": "j1Zww6p4jPcY",
        "outputId": "6a755b0b-3817-4d9e-f121-b806a832a3a1"
      },
      "execution_count": 9,
      "outputs": [
        {
          "output_type": "stream",
          "name": "stdout",
          "text": [
            "Dataset de treino : \n",
            "1    244\n",
            "0    122\n",
            "Name: classe, dtype: int64\n",
            "\n",
            "Dataset de teste : \n",
            "1    76\n",
            "0    49\n",
            "Name: classe, dtype: int64\n"
          ]
        }
      ]
    },
    {
      "cell_type": "markdown",
      "source": [
        "### Limpeza dos dados"
      ],
      "metadata": {
        "id": "whQIQSj-JwVJ"
      }
    },
    {
      "cell_type": "code",
      "source": [
        "# Utilizaremos o método stop_words para retirar as palavras que possuem pouco valor semântico e que aparecem com\n",
        "# frequência nas mensagens tais como : preposições, artigos e conjunções.\n",
        "\n",
        "STOPWORDS = stopwords.words(\"english\")"
      ],
      "metadata": {
        "id": "hLAOsxNOJ183"
      },
      "execution_count": 10,
      "outputs": []
    },
    {
      "cell_type": "code",
      "source": [
        "# Definindo a função de que fará a normalização dos textos nos datasets :\n",
        "# 1. Converteremos todos os caracteres para caixa baixa\n",
        "# 2. Substuiremos alguns termos que não tem valor semântico tais como htts, https, etc\n",
        "# 3. Aplicaremos o método stop_words carregado acima\n",
        "\n",
        "def f_limpeza(text):\n",
        "    text = text.lower()\n",
        "    text = re.sub(\"(http|https|www)(:|\\.)\\S+.com\",\" \",text)\n",
        "    text = re.sub(\"[^\\w\\d]\",\" \",text)\n",
        "    text = \" \".join([t for t in text.split() if t not in STOPWORDS])\n",
        "    return text\n",
        "\n",
        "# Aplicaremos a função de normalização f_limpeza() tanto no dataset de treino quanto de teste\n",
        "treino['msg_limpa'] = treino['mensagem'].apply(f_limpeza)\n",
        "\n",
        "teste['msg_limpa'] = teste['mensagem'].apply(f_limpeza)\n",
        "\n",
        "treino['msg_limpa'][:5]\n"
      ],
      "metadata": {
        "id": "tn4mf5xELjbY",
        "colab": {
          "base_uri": "https://localhost:8080/"
        },
        "outputId": "87ecd396-392f-4cba-e5e3-341345cb0edc"
      },
      "execution_count": 11,
      "outputs": [
        {
          "output_type": "execute_result",
          "data": {
            "text/plain": [
              "4     2nd time tried 2 contact u u â 750 pound prize...\n",
              "5     reminder o2 get 2 50 pounds free call credit d...\n",
              "30    asked 3mobile 0870 chatlines inclu free mins i...\n",
              "33    want explicit sex 30 secs ring 02073162414 cos...\n",
              "44    private 2003 account statement shows 800 un re...\n",
              "Name: msg_limpa, dtype: object"
            ]
          },
          "metadata": {},
          "execution_count": 11
        }
      ]
    },
    {
      "cell_type": "code",
      "source": [
        "# Hyperpametros\n",
        "vocab_size = 5000\n",
        "max_len = 30\n",
        "\n",
        "seed = 7\n",
        "np.random.seed(seed)\n",
        "set_seed(seed)"
      ],
      "metadata": {
        "id": "-zdEwqPYQhem"
      },
      "execution_count": 12,
      "outputs": []
    },
    {
      "cell_type": "code",
      "source": [
        "# Tokenização e padding\n",
        "\n",
        "token = Tokenizer(num_words=vocab_size)\n",
        "token.fit_on_texts(treino['msg_limpa'])\n",
        "\n",
        "x_train = token.texts_to_sequences(treino['msg_limpa'])\n",
        "\n",
        "x_test = token.texts_to_sequences(teste['msg_limpa'])\n",
        "\n",
        "x_test = teste['msg_limpa'].apply(lambda x : f_limpeza(x))\n",
        "x_test = token.texts_to_sequences(x_test)\n",
        "\n",
        "\n",
        "x_train = treino['msg_limpa'].apply(lambda x : f_limpeza(x))\n",
        "x_train = token.texts_to_sequences(x_train)\n",
        "\n",
        "x_test = pad_sequences(x_test,padding='pre',truncating='pre',maxlen=max_len)\n",
        "x_train = pad_sequences(x_train,maxlen=max_len,padding='pre',truncating='pre')\n",
        "\n",
        "\n",
        "# Aplicando oversampling no dataset de treino\n",
        "ros = RandomOverSampler(random_state=42)\n",
        "x_train = pad_sequences(x_train,maxlen=max_len,padding='pre',truncating='pre')\n",
        "x_train_resampled, y_train_resampled = ros.fit_resample(x_train, treino['classe'])\n",
        "\n"
      ],
      "metadata": {
        "id": "wqaodUP_QmEM"
      },
      "execution_count": 13,
      "outputs": []
    },
    {
      "cell_type": "markdown",
      "source": [
        "## Criação da Rede Neural\n"
      ],
      "metadata": {
        "id": "Q3TB1Sa7nW8H"
      }
    },
    {
      "cell_type": "markdown",
      "source": [
        "Criaremos uma rede neural sequencial composta por camadas empilhadas, utilizando a biblioteca Keras/TensorFlow.\n",
        "\n",
        "A arquitetura da rede neural é composta das seguintes camadas :\n",
        "\n",
        "1. Camada de Embedding: Essa camada recebe como entrada um vetor de palavras e mapeia cada palavra para um vetor denso de tamanho 100. A entrada possui comprimento máximo definido.\n",
        "\n",
        "2. Camada de Dropout: Essa camada aplica a técnica de regularização e desativa aleatoriamente uma porcentagem dos neurônios durante o treinamento.\n",
        "\n",
        "3. Camada LSTM: Essa camada é uma camada de Memória de Longo Prazo Recorrente especializada em processar sequências de dados com dependências de longo prazo.\n",
        "\n",
        "4. Camada de Dropout: Outra camada de Dropout é adicionada após a camada LSTM, com a mesma taxa de dropout da camada anterior.\n",
        "\n",
        "5. Camada Dense: A camada Dense possui um único neurônio com função de ativação sigmoid, que produz uma saída binária (0 ou 1).\n",
        "\n",
        "O modelo é compilado com uma função de perda binária_crossentropy, um otimizador Adam e a métrica de precisão para avaliação do desempenho."
      ],
      "metadata": {
        "id": "sOc7H9aMnopP"
      }
    },
    {
      "cell_type": "markdown",
      "source": [
        "####  Inicialização da RN"
      ],
      "metadata": {
        "id": "1JhuXvF6jy2d"
      }
    },
    {
      "cell_type": "markdown",
      "source": [
        "###Identificação dos melhores Hiperparâmetros"
      ],
      "metadata": {
        "id": "3BHwur91W9Oc"
      }
    },
    {
      "cell_type": "code",
      "source": [
        "def f_modelo(dropout_rate, lstm_units):\n",
        "    seed = 7\n",
        "    np.random.seed(seed)\n",
        "    set_seed(seed)\n",
        "\n",
        "    model = Sequential([\n",
        "        Embedding(vocab_size, 100, input_length=max_len),\n",
        "        Dropout(dropout_rate),\n",
        "        LSTM(lstm_units),\n",
        "        Dropout(dropout_rate),\n",
        "        Dense(1, activation='sigmoid')\n",
        "    ])\n",
        "    model.compile(loss='binary_crossentropy', optimizer='adam', metrics=['acc'])\n",
        "    return model\n",
        "\n",
        "model = KerasClassifier(build_fn=f_modelo)\n",
        "\n",
        "param_dist = {\n",
        "    'dropout_rate': uniform(0.2, 0.3),\n",
        "    'lstm_units': [100, 200, 300]\n",
        "}\n",
        "\n",
        "random_search = RandomizedSearchCV(estimator=model, param_distributions=param_dist, cv=3, n_iter=3)\n",
        "random_search_result = random_search.fit(x_train, treino['classe'], epochs=5, batch_size=32, validation_data=(x_test, teste['classe']))\n",
        "\n",
        "print(\"Melhor Resultado: %f Hiperparâmetros : %s\" % (random_search_result.best_score_, random_search_result.best_params_))"
      ],
      "metadata": {
        "id": "gh-464VSV-Vo",
        "colab": {
          "base_uri": "https://localhost:8080/"
        },
        "outputId": "2c347fe6-2593-4ff3-9a43-58f2c4fa6599"
      },
      "execution_count": 14,
      "outputs": [
        {
          "output_type": "stream",
          "name": "stdout",
          "text": [
            "Epoch 1/5\n",
            "8/8 [==============================] - 9s 413ms/step - loss: 0.6558 - acc: 0.6639 - val_loss: 0.8005 - val_acc: 0.3920\n",
            "Epoch 2/5\n",
            "8/8 [==============================] - 2s 232ms/step - loss: 0.5144 - acc: 0.7869 - val_loss: 0.5516 - val_acc: 0.7440\n",
            "Epoch 3/5\n",
            "8/8 [==============================] - 2s 262ms/step - loss: 0.3820 - acc: 0.8730 - val_loss: 0.5678 - val_acc: 0.7280\n",
            "Epoch 4/5\n",
            "8/8 [==============================] - 2s 232ms/step - loss: 0.2489 - acc: 0.9016 - val_loss: 0.2509 - val_acc: 0.9360\n",
            "Epoch 5/5\n",
            "8/8 [==============================] - 2s 233ms/step - loss: 0.1363 - acc: 0.9549 - val_loss: 0.5873 - val_acc: 0.7680\n",
            "4/4 [==============================] - 2s 45ms/step - loss: 0.2378 - acc: 0.9183\n",
            "Epoch 1/5\n",
            "8/8 [==============================] - 7s 213ms/step - loss: 0.5760 - acc: 0.9467 - val_loss: 2.3686 - val_acc: 0.3920\n",
            "Epoch 2/5\n",
            "8/8 [==============================] - 1s 115ms/step - loss: 0.0056 - acc: 1.0000 - val_loss: 6.0071 - val_acc: 0.3920\n",
            "Epoch 3/5\n",
            "8/8 [==============================] - 1s 117ms/step - loss: 3.3724e-05 - acc: 1.0000 - val_loss: 6.9016 - val_acc: 0.3920\n",
            "Epoch 4/5\n",
            "8/8 [==============================] - 1s 116ms/step - loss: 1.0352e-05 - acc: 1.0000 - val_loss: 7.3116 - val_acc: 0.3920\n",
            "Epoch 5/5\n",
            "8/8 [==============================] - 1s 110ms/step - loss: 6.5557e-06 - acc: 1.0000 - val_loss: 7.5046 - val_acc: 0.3920\n",
            "4/4 [==============================] - 1s 27ms/step - loss: 4.2744e-06 - acc: 1.0000\n",
            "Epoch 1/5\n",
            "8/8 [==============================] - 4s 240ms/step - loss: 0.6596 - acc: 0.5000 - val_loss: 0.6937 - val_acc: 0.4080\n",
            "Epoch 2/5\n",
            "8/8 [==============================] - 1s 169ms/step - loss: 0.4858 - acc: 0.7828 - val_loss: 0.4119 - val_acc: 0.8240\n",
            "Epoch 3/5\n",
            "8/8 [==============================] - 1s 166ms/step - loss: 0.3504 - acc: 0.8607 - val_loss: 0.3110 - val_acc: 0.9280\n",
            "Epoch 4/5\n",
            "8/8 [==============================] - 1s 119ms/step - loss: 0.2515 - acc: 0.9098 - val_loss: 0.5272 - val_acc: 0.7760\n",
            "Epoch 5/5\n",
            "8/8 [==============================] - 1s 114ms/step - loss: 0.1445 - acc: 0.9631 - val_loss: 0.2135 - val_acc: 0.9120\n",
            "4/4 [==============================] - 1s 25ms/step - loss: 0.0683 - acc: 0.9688\n",
            "Epoch 1/5\n",
            "8/8 [==============================] - 3s 123ms/step - loss: 0.6752 - acc: 0.7295 - val_loss: 0.6474 - val_acc: 0.6160\n",
            "Epoch 2/5\n",
            "8/8 [==============================] - 0s 65ms/step - loss: 0.5634 - acc: 0.6926 - val_loss: 0.5937 - val_acc: 0.6640\n",
            "Epoch 3/5\n",
            "8/8 [==============================] - 1s 76ms/step - loss: 0.4262 - acc: 0.9057 - val_loss: 0.6450 - val_acc: 0.7040\n",
            "Epoch 4/5\n",
            "8/8 [==============================] - 1s 78ms/step - loss: 0.3036 - acc: 0.8893 - val_loss: 0.3276 - val_acc: 0.8720\n",
            "Epoch 5/5\n",
            "8/8 [==============================] - 1s 80ms/step - loss: 0.1763 - acc: 0.9344 - val_loss: 0.6651 - val_acc: 0.7440\n",
            "4/4 [==============================] - 1s 10ms/step - loss: 0.3308 - acc: 0.9105\n",
            "Epoch 1/5\n",
            "8/8 [==============================] - 3s 128ms/step - loss: 0.6534 - acc: 0.9139 - val_loss: 0.7419 - val_acc: 0.3920\n",
            "Epoch 2/5\n",
            "8/8 [==============================] - 0s 48ms/step - loss: 0.2497 - acc: 1.0000 - val_loss: 3.4592 - val_acc: 0.3920\n",
            "Epoch 3/5\n",
            "8/8 [==============================] - 0s 47ms/step - loss: 0.0017 - acc: 1.0000 - val_loss: 4.6354 - val_acc: 0.3920\n",
            "Epoch 4/5\n",
            "8/8 [==============================] - 0s 55ms/step - loss: 4.6034e-04 - acc: 1.0000 - val_loss: 5.1814 - val_acc: 0.3920\n",
            "Epoch 5/5\n",
            "8/8 [==============================] - 0s 53ms/step - loss: 2.1220e-04 - acc: 1.0000 - val_loss: 5.4755 - val_acc: 0.3920\n",
            "4/4 [==============================] - 1s 11ms/step - loss: 1.2461e-04 - acc: 1.0000\n",
            "Epoch 1/5\n",
            "8/8 [==============================] - 4s 193ms/step - loss: 0.6783 - acc: 0.5656 - val_loss: 0.6550 - val_acc: 0.4480\n",
            "Epoch 2/5\n",
            "8/8 [==============================] - 1s 80ms/step - loss: 0.5660 - acc: 0.6803 - val_loss: 0.5870 - val_acc: 0.6560\n",
            "Epoch 3/5\n",
            "8/8 [==============================] - 1s 79ms/step - loss: 0.3960 - acc: 0.8852 - val_loss: 0.6282 - val_acc: 0.7360\n",
            "Epoch 4/5\n",
            "8/8 [==============================] - 0s 48ms/step - loss: 0.3128 - acc: 0.8811 - val_loss: 0.6079 - val_acc: 0.7920\n",
            "Epoch 5/5\n",
            "8/8 [==============================] - 0s 49ms/step - loss: 0.2100 - acc: 0.9139 - val_loss: 0.4443 - val_acc: 0.8080\n",
            "4/4 [==============================] - 1s 11ms/step - loss: 0.2358 - acc: 0.9357\n",
            "Epoch 1/5\n",
            "8/8 [==============================] - 3s 133ms/step - loss: 0.6741 - acc: 0.7049 - val_loss: 0.6487 - val_acc: 0.4960\n",
            "Epoch 2/5\n",
            "8/8 [==============================] - 0s 48ms/step - loss: 0.5637 - acc: 0.6557 - val_loss: 0.5935 - val_acc: 0.6720\n",
            "Epoch 3/5\n",
            "8/8 [==============================] - 0s 51ms/step - loss: 0.4234 - acc: 0.9057 - val_loss: 0.8345 - val_acc: 0.6640\n",
            "Epoch 4/5\n",
            "8/8 [==============================] - 0s 50ms/step - loss: 0.3206 - acc: 0.9057 - val_loss: 0.5206 - val_acc: 0.7680\n",
            "Epoch 5/5\n",
            "8/8 [==============================] - 0s 52ms/step - loss: 0.2144 - acc: 0.9426 - val_loss: 0.4242 - val_acc: 0.8080\n",
            "4/4 [==============================] - 1s 11ms/step - loss: 0.2195 - acc: 0.9261\n",
            "Epoch 1/5\n",
            "8/8 [==============================] - 4s 135ms/step - loss: 0.6467 - acc: 0.9016 - val_loss: 0.7578 - val_acc: 0.3920\n",
            "Epoch 2/5\n",
            "8/8 [==============================] - 0s 57ms/step - loss: 0.2039 - acc: 1.0000 - val_loss: 3.4348 - val_acc: 0.3920\n",
            "Epoch 3/5\n",
            "8/8 [==============================] - 0s 52ms/step - loss: 0.0018 - acc: 1.0000 - val_loss: 4.5349 - val_acc: 0.3920\n",
            "Epoch 4/5\n",
            "8/8 [==============================] - 0s 49ms/step - loss: 5.7338e-04 - acc: 1.0000 - val_loss: 5.0323 - val_acc: 0.3920\n",
            "Epoch 5/5\n",
            "8/8 [==============================] - 0s 51ms/step - loss: 2.7327e-04 - acc: 1.0000 - val_loss: 5.2982 - val_acc: 0.3920\n",
            "4/4 [==============================] - 1s 12ms/step - loss: 1.6664e-04 - acc: 1.0000\n",
            "Epoch 1/5\n",
            "8/8 [==============================] - 4s 219ms/step - loss: 0.6652 - acc: 0.5984 - val_loss: 0.6715 - val_acc: 0.4000\n",
            "Epoch 2/5\n",
            "8/8 [==============================] - 1s 80ms/step - loss: 0.5368 - acc: 0.6926 - val_loss: 0.5613 - val_acc: 0.7040\n",
            "Epoch 3/5\n",
            "8/8 [==============================] - 1s 79ms/step - loss: 0.3999 - acc: 0.8730 - val_loss: 0.3823 - val_acc: 0.8720\n",
            "Epoch 4/5\n",
            "8/8 [==============================] - 1s 78ms/step - loss: 0.2921 - acc: 0.9139 - val_loss: 0.4529 - val_acc: 0.8080\n",
            "Epoch 5/5\n",
            "8/8 [==============================] - 1s 80ms/step - loss: 0.1896 - acc: 0.9262 - val_loss: 0.3681 - val_acc: 0.8400\n",
            "4/4 [==============================] - 1s 12ms/step - loss: 0.1874 - acc: 0.9435\n",
            "Epoch 1/5\n",
            "12/12 [==============================] - 4s 152ms/step - loss: 0.5894 - acc: 0.8497 - val_loss: 0.4416 - val_acc: 0.9200\n",
            "Epoch 2/5\n",
            "12/12 [==============================] - 1s 102ms/step - loss: 0.3046 - acc: 0.8880 - val_loss: 0.3383 - val_acc: 0.8080\n",
            "Epoch 3/5\n",
            "12/12 [==============================] - 1s 99ms/step - loss: 0.1634 - acc: 0.9399 - val_loss: 0.2064 - val_acc: 0.9200\n",
            "Epoch 4/5\n",
            "12/12 [==============================] - 1s 104ms/step - loss: 0.0880 - acc: 0.9809 - val_loss: 0.2663 - val_acc: 0.8800\n",
            "Epoch 5/5\n",
            "12/12 [==============================] - 2s 130ms/step - loss: 0.0489 - acc: 0.9863 - val_loss: 0.2147 - val_acc: 0.8960\n",
            "Melhor Resultado: 0.962340 Hiperparâmetros : {'dropout_rate': 0.22289248681218715, 'lstm_units': 200}\n"
          ]
        }
      ]
    },
    {
      "cell_type": "markdown",
      "source": [
        "### Observações sobre os Hiperparâmetros\n",
        "\n",
        "Executamos diversas rodadas de busca dos hiperparâmetros com diferentes valores de época. Os melhores resultados que obtivemos no treino e testes foram com {'dropout_rate': 0.2260230289519976, 'lstm_units': 300}.\n"
      ],
      "metadata": {
        "id": "7-EbWqOPADIP"
      }
    },
    {
      "cell_type": "markdown",
      "source": [
        "### Treinamento e Teste do Modelo"
      ],
      "metadata": {
        "id": "WyHb5fZkR_79"
      }
    },
    {
      "cell_type": "markdown",
      "source": [
        "####Utilização dos Hiperparâmetros Otimizados"
      ],
      "metadata": {
        "id": "--ol7brOpg8y"
      }
    },
    {
      "cell_type": "code",
      "source": [
        "# HIPERPARÂMETROS OTIMIZADOS\n",
        "\n",
        "model = Sequential([\n",
        "    Embedding(vocab_size, 100, input_length=max_len),\n",
        "    Dropout(0.2260230289519976),\n",
        "    LSTM(300),\n",
        "    Dropout(0.2260230289519976),\n",
        "    Dense(1, activation='sigmoid')\n",
        "])\n",
        "\n",
        "model.compile(loss='binary_crossentropy', optimizer='adam', metrics=['acc'])\n",
        "\n",
        "model.summary()\n",
        "\n",
        "history = model.fit(x_train, treino['classe'], epochs=5, batch_size=32, validation_data=(x_test, teste['classe']))\n",
        "\n"
      ],
      "metadata": {
        "id": "LtmUQcddXo8g",
        "colab": {
          "base_uri": "https://localhost:8080/"
        },
        "outputId": "a323f554-1868-4029-a670-ac5a563800df"
      },
      "execution_count": 15,
      "outputs": [
        {
          "output_type": "stream",
          "name": "stdout",
          "text": [
            "Model: \"sequential_10\"\n",
            "_________________________________________________________________\n",
            " Layer (type)                Output Shape              Param #   \n",
            "=================================================================\n",
            " embedding_10 (Embedding)    (None, 30, 100)           500000    \n",
            "                                                                 \n",
            " dropout_20 (Dropout)        (None, 30, 100)           0         \n",
            "                                                                 \n",
            " lstm_10 (LSTM)              (None, 300)               481200    \n",
            "                                                                 \n",
            " dropout_21 (Dropout)        (None, 300)               0         \n",
            "                                                                 \n",
            " dense_10 (Dense)            (None, 1)                 301       \n",
            "                                                                 \n",
            "=================================================================\n",
            "Total params: 981,501\n",
            "Trainable params: 981,501\n",
            "Non-trainable params: 0\n",
            "_________________________________________________________________\n",
            "Epoch 1/5\n",
            "12/12 [==============================] - 5s 205ms/step - loss: 0.5613 - acc: 0.8060 - val_loss: 0.4818 - val_acc: 0.7280\n",
            "Epoch 2/5\n",
            "12/12 [==============================] - 2s 146ms/step - loss: 0.3179 - acc: 0.8552 - val_loss: 0.3015 - val_acc: 0.9280\n",
            "Epoch 3/5\n",
            "12/12 [==============================] - 2s 148ms/step - loss: 0.1924 - acc: 0.9454 - val_loss: 0.2191 - val_acc: 0.9360\n",
            "Epoch 4/5\n",
            "12/12 [==============================] - 2s 159ms/step - loss: 0.1335 - acc: 0.9617 - val_loss: 0.2750 - val_acc: 0.8880\n",
            "Epoch 5/5\n",
            "12/12 [==============================] - 3s 306ms/step - loss: 0.0789 - acc: 0.9836 - val_loss: 0.1392 - val_acc: 0.9520\n"
          ]
        }
      ]
    },
    {
      "cell_type": "markdown",
      "source": [
        "####Visualização dos Resultados"
      ],
      "metadata": {
        "id": "1DY_itM4SNiU"
      }
    },
    {
      "cell_type": "code",
      "source": [
        "history_df = pd.DataFrame(history.history)\n",
        "history_df[['acc', 'val_acc']].rename(columns={'acc': 'Treino', 'val_acc': 'Teste'}).plot(title='Precisão')\n",
        "plt.xlabel('Épocas')\n",
        "plt.ylabel('Precisão')\n",
        "plt.legend(title='Dados')\n",
        "plt.show()\n",
        "\n",
        "history_df[['loss', 'val_loss']].rename(columns={'loss': 'Treino', 'val_loss': 'Teste'}).plot(title='Perda')\n",
        "plt.xlabel('Épocas')\n",
        "plt.ylabel('Perda')\n",
        "plt.legend(title='Dados')\n",
        "plt.show()\n"
      ],
      "metadata": {
        "id": "aaJoMFPOSc-b",
        "colab": {
          "base_uri": "https://localhost:8080/",
          "height": 931
        },
        "outputId": "1b8337ab-aa05-47b8-e8f1-87ad054b1b13"
      },
      "execution_count": 16,
      "outputs": [
        {
          "output_type": "display_data",
          "data": {
            "text/plain": [
              "<Figure size 640x480 with 1 Axes>"
            ],
            "image/png": "[encoded data removed]"
          },
          "metadata": {}
        },
        {
          "output_type": "display_data",
          "data": {
            "text/plain": [
              "<Figure size 640x480 with 1 Axes>"
            ],
            "image/png": "[encoded data removed]"
          },
          "metadata": {}
        }
      ]
    },
    {
      "cell_type": "code",
      "source": [
        "loss,acc = model.evaluate(x_train,treino['classe'])\n",
        "print()\n",
        "print ('Resultados do Treino :')\n",
        "print()\n",
        "print('Precisão: {:.2f}%'.format(acc * 100))\n",
        "\n",
        "print()\n",
        "print('Perda: {:.2f}%'.format(loss * 100))\n",
        "print('-------------------------------------------------------------------')\n",
        "loss,acc = model.evaluate(x_test,teste['classe'])\n",
        "print()\n",
        "print ('Resultados do Teste :')\n",
        "print()\n",
        "print('Precisão: {:.2f}%'.format(acc * 100))\n",
        "\n",
        "print()\n",
        "print('Perda: {:.2f}%'.format(loss * 100))"
      ],
      "metadata": {
        "id": "jy_m2AunUGdc",
        "colab": {
          "base_uri": "https://localhost:8080/"
        },
        "outputId": "4965ba3b-1c6d-4e07-b1b9-f4f8ff04ede4"
      },
      "execution_count": 17,
      "outputs": [
        {
          "output_type": "stream",
          "name": "stdout",
          "text": [
            "12/12 [==============================] - 1s 51ms/step - loss: 0.0514 - acc: 0.9918\n",
            "\n",
            "Resultados do Treino :\n",
            "\n",
            "Precisão: 99.18%\n",
            "\n",
            "Perda: 5.14%\n",
            "-------------------------------------------------------------------\n",
            "4/4 [==============================] - 0s 83ms/step - loss: 0.1392 - acc: 0.9520\n",
            "\n",
            "Resultados do Teste :\n",
            "\n",
            "Precisão: 95.20%\n",
            "\n",
            "Perda: 13.92%\n"
          ]
        }
      ]
    },
    {
      "cell_type": "markdown",
      "source": [
        "####Salvando o modelo"
      ],
      "metadata": {
        "id": "IvOB5C3I43tg"
      }
    },
    {
      "cell_type": "code",
      "source": [
        "from google.colab import drive\n",
        "drive.mount('/content/gdrive', force_remount=True)\n",
        "\n",
        "%cd /content/gdrive/MyDrive/Colab Notebooks/Machine Learning/Sprint 2/MVP/\n",
        "\n",
        "!ls\n",
        "#acessa a pasta montada\n",
        "# lista o conteúdo da pasta"
      ],
      "metadata": {
        "colab": {
          "base_uri": "https://localhost:8080/"
        },
        "id": "By2Ct4meqr_u",
        "outputId": "e8feb1f3-1820-4a39-ada5-e670d1e37865"
      },
      "execution_count": 18,
      "outputs": [
        {
          "output_type": "stream",
          "name": "stdout",
          "text": [
            "Mounted at /content/gdrive\n",
            "/content/gdrive/MyDrive/Colab Notebooks/Machine Learning/Sprint 2/MVP\n",
            "'ML_MVP Notebook A'  'ML_MVP Notebook B 0707'\n",
            "'ML_MVP Notebook B'   Ml_NotebookB.h5\n"
          ]
        }
      ]
    },
    {
      "cell_type": "code",
      "source": [
        "\n",
        "# salvando o modelo\n",
        "model.save(\"/content/gdrive/MyDrive/Colab Notebooks/Machine Learning/Sprint 2/MVP/Ml_NotebookB.h5\")\n",
        "print(\"Modelo salvo com sucesso!\")"
      ],
      "metadata": {
        "id": "6cXaGtGC9U6g",
        "colab": {
          "base_uri": "https://localhost:8080/"
        },
        "outputId": "5c7eba60-2325-4334-ebc6-e8c69725cae0"
      },
      "execution_count": 19,
      "outputs": [
        {
          "output_type": "stream",
          "name": "stdout",
          "text": [
            "Modelo salvo com sucesso!\n"
          ]
        }
      ]
    },
    {
      "cell_type": "code",
      "source": [
        "from google.colab import drive\n",
        "drive.mount('/content/drive')"
      ],
      "metadata": {
        "id": "SY7GUVTqpp8j",
        "colab": {
          "base_uri": "https://localhost:8080/"
        },
        "outputId": "f84907b7-41c3-40a6-da7a-3cfc0d234435"
      },
      "execution_count": 20,
      "outputs": [
        {
          "output_type": "stream",
          "name": "stdout",
          "text": [
            "Mounted at /content/drive\n"
          ]
        }
      ]
    },
    {
      "cell_type": "markdown",
      "source": [
        "### Conclusões Finais\n",
        "Fizemos diversas rodadas de treino variando a quantidade de épocas. Foi com 5 épocas que obtivemos os melhores resultados.\n",
        "\n",
        "Observamos que a perda diminui e a precisão aumenta ao longo das épocas no conjunto de treinamento, o que indica que o modelo está aprendendo a partir desse conjunto de dados. O mesmo comportamento observamos no conjunto de  teste, embora em alguns casos possam acontecer flutuações.\n",
        "\n",
        "Ao final do treinamento, o modelo alcançou uma precisão acima de 90% para o conjunto de teste, o que nos leva a concluir que o modelo está aprendendo a partir dos dados, indicando um bom desempenho na classificação binária.\n"
      ],
      "metadata": {
        "id": "Z9JVuoxlKNMx"
      }
    }
  ]
}